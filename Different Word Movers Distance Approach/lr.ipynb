{
 "cells": [
  {
   "cell_type": "code",
   "execution_count": 1,
   "metadata": {},
   "outputs": [],
   "source": [
    "import pandas as pd\n",
    "from sklearn.linear_model import LinearRegression\n",
    "from sklearn.model_selection import train_test_split\n",
    "from sklearn.metrics import mean_squared_error\n",
    "from gensim.models import Word2Vec\n",
    "from nltk import word_tokenize, pos_tag\n",
    "from nltk.corpus import wordnet\n",
    "from pyemd import emd\n",
    "from spellchecker import SpellChecker\n",
    "\n",
    "# Load the dataset\n",
    "df = pd.read_csv('iot.csv')  # Replace 'your_dataset.csv' with the actual filename\n",
    "\n",
    "# Initialize spell checker\n",
    "spell = SpellChecker()\n",
    "\n",
    "# Calculate feature values for each student answer\n",
    "def calculate_features(answer, ideal_answer):\n",
    "    features = []\n",
    "    \n",
    "    # Word count feature\n",
    "    word_count = len(word_tokenize(answer))\n",
    "    features.append(word_count)\n",
    "\n",
    "    # Spelling error feature\n",
    "    spelling_errors = calculate_spelling_errors(answer)\n",
    "    features.append(spelling_errors)\n",
    "\n",
    "    # Keywords matching feature\n",
    "    keywords_matching = calculate_keywords_matching(answer, ideal_answer)\n",
    "    features.append(keywords_matching)\n",
    "    \n",
    "    # Noun count feature\n",
    "    noun_count = count_pos_tags_function(answer, 'NN')\n",
    "    features.append(noun_count)\n",
    "\n",
    "    # Verb count feature\n",
    "    verb_count = count_pos_tags_function(answer, 'VB')\n",
    "    features.append(verb_count)\n",
    "\n",
    "    # Adjective count feature\n",
    "    adj_count = count_pos_tags_function(answer, 'JJ')\n",
    "    features.append(adj_count)\n",
    "    \n",
    "    # Word movers distance feature\n",
    "    wmd_score = calculate_wmd_score(answer, ideal_answer, word2vec_model)\n",
    "    features.append(wmd_score)\n",
    "\n",
    "    return features\n",
    "\n",
    "# Calculate spelling errors using SpellChecker\n",
    "def calculate_spelling_errors(Test_Answer):\n",
    "    words = word_tokenize(Test_Answer)\n",
    "    misspelled = spell.unknown(words)\n",
    "    return len(misspelled)\n",
    "\n",
    "# Calculate keywords matching\n",
    "def calculate_keywords_matching(Test_Answer, Standard_Answer):\n",
    "    keywords = ['keyword1', 'keyword2', 'keyword3']  # Replace with your specific keywords\n",
    "    answer_words = set(word_tokenize(Test_Answer.lower()))\n",
    "    ideal_words = set(word_tokenize(Standard_Answer.lower()))\n",
    "    matching_keywords = answer_words.intersection(keywords)\n",
    "    return len(matching_keywords) / len(ideal_words)\n",
    "\n",
    "\n",
    "\n"
   ]
  },
  {
   "cell_type": "code",
   "execution_count": 2,
   "metadata": {},
   "outputs": [],
   "source": [
    "# Count the number of words with a specific POS tag\n",
    "def count_pos_tags_function(answer, pos_tag):\n",
    "    tagged_answer = pos_tag(word_tokenize(answer))\n",
    "    pos_count = len([word for word, pos in tagged_answer if pos.startswith(pos_tag)])\n",
    "    return pos_count"
   ]
  },
  {
   "cell_type": "code",
   "execution_count": 3,
   "metadata": {},
   "outputs": [],
   "source": [
    "# Calculate word movers distance between two sentences\n",
    "def calculate_wmd(answer, ideal_answer, word2vec_model):\n",
    "    s1 = word_tokenize(answer)\n",
    "    s2 = word_tokenize(ideal_answer)\n",
    "    return word2vec_model.wmdistance(s1, s2)"
   ]
  },
  {
   "cell_type": "code",
   "execution_count": 4,
   "metadata": {},
   "outputs": [],
   "source": [
    "# Load the word2vec model (pre-trained or train your own)\n",
    "word2vec_model = Word2Vec.load('word2vec.bin')  # Replace 'your_word2vec_model.bin' with the actual filename"
   ]
  },
  {
   "cell_type": "code",
   "execution_count": 5,
   "metadata": {},
   "outputs": [],
   "source": [
    "# Create the feature matrix and target variable\n",
    "X = []\n",
    "y = []\n",
    "\n",
    "\n"
   ]
  },
  {
   "cell_type": "code",
   "execution_count": 6,
   "metadata": {},
   "outputs": [
    {
     "ename": "TypeError",
     "evalue": "'str' object is not callable",
     "output_type": "error",
     "traceback": [
      "\u001b[1;31m---------------------------------------------------------------------------\u001b[0m",
      "\u001b[1;31mTypeError\u001b[0m                                 Traceback (most recent call last)",
      "Cell \u001b[1;32mIn[6], line 4\u001b[0m\n\u001b[0;32m      2\u001b[0m answer \u001b[39m=\u001b[39m row[\u001b[39m'\u001b[39m\u001b[39mTest_Answer\u001b[39m\u001b[39m'\u001b[39m]\n\u001b[0;32m      3\u001b[0m ideal_answer \u001b[39m=\u001b[39m row[\u001b[39m'\u001b[39m\u001b[39mStandard_Answer\u001b[39m\u001b[39m'\u001b[39m]\n\u001b[1;32m----> 4\u001b[0m features \u001b[39m=\u001b[39m calculate_features(answer, ideal_answer)\n\u001b[0;32m      5\u001b[0m X\u001b[39m.\u001b[39mappend(features)\n\u001b[0;32m      6\u001b[0m y\u001b[39m.\u001b[39mappend(row[\u001b[39m'\u001b[39m\u001b[39mscore\u001b[39m\u001b[39m'\u001b[39m])\n",
      "Cell \u001b[1;32mIn[1], line 34\u001b[0m, in \u001b[0;36mcalculate_features\u001b[1;34m(answer, ideal_answer)\u001b[0m\n\u001b[0;32m     31\u001b[0m features\u001b[39m.\u001b[39mappend(keywords_matching)\n\u001b[0;32m     33\u001b[0m \u001b[39m# Noun count feature\u001b[39;00m\n\u001b[1;32m---> 34\u001b[0m noun_count \u001b[39m=\u001b[39m count_pos_tags_function(answer, \u001b[39m'\u001b[39;49m\u001b[39mNN\u001b[39;49m\u001b[39m'\u001b[39;49m)\n\u001b[0;32m     35\u001b[0m features\u001b[39m.\u001b[39mappend(noun_count)\n\u001b[0;32m     37\u001b[0m \u001b[39m# Verb count feature\u001b[39;00m\n",
      "Cell \u001b[1;32mIn[2], line 3\u001b[0m, in \u001b[0;36mcount_pos_tags_function\u001b[1;34m(answer, pos_tag)\u001b[0m\n\u001b[0;32m      2\u001b[0m \u001b[39mdef\u001b[39;00m \u001b[39mcount_pos_tags_function\u001b[39m(answer, pos_tag):\n\u001b[1;32m----> 3\u001b[0m     tagged_answer \u001b[39m=\u001b[39m pos_tag(word_tokenize(answer))\n\u001b[0;32m      4\u001b[0m     pos_count \u001b[39m=\u001b[39m \u001b[39mlen\u001b[39m([word \u001b[39mfor\u001b[39;00m word, pos \u001b[39min\u001b[39;00m tagged_answer \u001b[39mif\u001b[39;00m pos\u001b[39m.\u001b[39mstartswith(pos_tag)])\n\u001b[0;32m      5\u001b[0m     \u001b[39mreturn\u001b[39;00m pos_count\n",
      "\u001b[1;31mTypeError\u001b[0m: 'str' object is not callable"
     ]
    }
   ],
   "source": [
    "for i, row in df.iterrows():\n",
    "    answer = row['Test_Answer']\n",
    "    ideal_answer = row['Standard_Answer']\n",
    "    features = calculate_features(answer, ideal_answer)\n",
    "    X.append(features)\n",
    "    y.append(row['score'])"
   ]
  },
  {
   "cell_type": "code",
   "execution_count": null,
   "metadata": {},
   "outputs": [
    {
     "ename": "ValueError",
     "evalue": "With n_samples=0, test_size=0.2 and train_size=None, the resulting train set will be empty. Adjust any of the aforementioned parameters.",
     "output_type": "error",
     "traceback": [
      "\u001b[1;31m---------------------------------------------------------------------------\u001b[0m",
      "\u001b[1;31mValueError\u001b[0m                                Traceback (most recent call last)",
      "Cell \u001b[1;32mIn[96], line 2\u001b[0m\n\u001b[0;32m      1\u001b[0m \u001b[39m# Split the data into training and testing sets\u001b[39;00m\n\u001b[1;32m----> 2\u001b[0m X_train, X_test, y_train, y_test \u001b[39m=\u001b[39m train_test_split(X, y, test_size\u001b[39m=\u001b[39;49m\u001b[39m0.2\u001b[39;49m, random_state\u001b[39m=\u001b[39;49m\u001b[39m42\u001b[39;49m)\n\u001b[0;32m      4\u001b[0m \u001b[39m# Train the linear regression model\u001b[39;00m\n\u001b[0;32m      5\u001b[0m regressor \u001b[39m=\u001b[39m LinearRegression()\n",
      "File \u001b[1;32mc:\\Users\\V\\AppData\\Local\\Programs\\Python\\Python311\\Lib\\site-packages\\sklearn\\model_selection\\_split.py:2562\u001b[0m, in \u001b[0;36mtrain_test_split\u001b[1;34m(test_size, train_size, random_state, shuffle, stratify, *arrays)\u001b[0m\n\u001b[0;32m   2559\u001b[0m arrays \u001b[39m=\u001b[39m indexable(\u001b[39m*\u001b[39marrays)\n\u001b[0;32m   2561\u001b[0m n_samples \u001b[39m=\u001b[39m _num_samples(arrays[\u001b[39m0\u001b[39m])\n\u001b[1;32m-> 2562\u001b[0m n_train, n_test \u001b[39m=\u001b[39m _validate_shuffle_split(\n\u001b[0;32m   2563\u001b[0m     n_samples, test_size, train_size, default_test_size\u001b[39m=\u001b[39;49m\u001b[39m0.25\u001b[39;49m\n\u001b[0;32m   2564\u001b[0m )\n\u001b[0;32m   2566\u001b[0m \u001b[39mif\u001b[39;00m shuffle \u001b[39mis\u001b[39;00m \u001b[39mFalse\u001b[39;00m:\n\u001b[0;32m   2567\u001b[0m     \u001b[39mif\u001b[39;00m stratify \u001b[39mis\u001b[39;00m \u001b[39mnot\u001b[39;00m \u001b[39mNone\u001b[39;00m:\n",
      "File \u001b[1;32mc:\\Users\\V\\AppData\\Local\\Programs\\Python\\Python311\\Lib\\site-packages\\sklearn\\model_selection\\_split.py:2236\u001b[0m, in \u001b[0;36m_validate_shuffle_split\u001b[1;34m(n_samples, test_size, train_size, default_test_size)\u001b[0m\n\u001b[0;32m   2233\u001b[0m n_train, n_test \u001b[39m=\u001b[39m \u001b[39mint\u001b[39m(n_train), \u001b[39mint\u001b[39m(n_test)\n\u001b[0;32m   2235\u001b[0m \u001b[39mif\u001b[39;00m n_train \u001b[39m==\u001b[39m \u001b[39m0\u001b[39m:\n\u001b[1;32m-> 2236\u001b[0m     \u001b[39mraise\u001b[39;00m \u001b[39mValueError\u001b[39;00m(\n\u001b[0;32m   2237\u001b[0m         \u001b[39m\"\u001b[39m\u001b[39mWith n_samples=\u001b[39m\u001b[39m{}\u001b[39;00m\u001b[39m, test_size=\u001b[39m\u001b[39m{}\u001b[39;00m\u001b[39m and train_size=\u001b[39m\u001b[39m{}\u001b[39;00m\u001b[39m, the \u001b[39m\u001b[39m\"\u001b[39m\n\u001b[0;32m   2238\u001b[0m         \u001b[39m\"\u001b[39m\u001b[39mresulting train set will be empty. Adjust any of the \u001b[39m\u001b[39m\"\u001b[39m\n\u001b[0;32m   2239\u001b[0m         \u001b[39m\"\u001b[39m\u001b[39maforementioned parameters.\u001b[39m\u001b[39m\"\u001b[39m\u001b[39m.\u001b[39mformat(n_samples, test_size, train_size)\n\u001b[0;32m   2240\u001b[0m     )\n\u001b[0;32m   2242\u001b[0m \u001b[39mreturn\u001b[39;00m n_train, n_test\n",
      "\u001b[1;31mValueError\u001b[0m: With n_samples=0, test_size=0.2 and train_size=None, the resulting train set will be empty. Adjust any of the aforementioned parameters."
     ]
    }
   ],
   "source": [
    "# Split the data into training and testing sets\n",
    "X_train, X_test, y_train, y_test = train_test_split(X, y, test_size=0.2, random_state=42)\n",
    "\n",
    "# Train the linear regression model\n",
    "regressor = LinearRegression()\n",
    "regressor.fit(X_train, y_train)\n",
    "\n",
    "# Make predictions on the test set\n",
    "y_pred = regressor.predict(X_test)\n",
    "\n",
    "# Evaluate the model\n",
    "mse = mean_squared_error(y_test, y_pred)\n",
    "print('Mean Squared Error:', mse)\n"
   ]
  },
  {
   "cell_type": "code",
   "execution_count": null,
   "metadata": {},
   "outputs": [],
   "source": []
  }
 ],
 "metadata": {
  "kernelspec": {
   "display_name": "Python 3",
   "language": "python",
   "name": "python3"
  },
  "language_info": {
   "codemirror_mode": {
    "name": "ipython",
    "version": 3
   },
   "file_extension": ".py",
   "mimetype": "text/x-python",
   "name": "python",
   "nbconvert_exporter": "python",
   "pygments_lexer": "ipython3",
   "version": "3.11.1"
  },
  "orig_nbformat": 4
 },
 "nbformat": 4,
 "nbformat_minor": 2
}

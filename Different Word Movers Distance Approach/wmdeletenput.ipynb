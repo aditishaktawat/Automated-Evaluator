{
 "cells": [
  {
   "cell_type": "code",
   "execution_count": null,
   "metadata": {},
   "outputs": [],
   "source": [
    "from sklearn.feature_extraction.text import TfidfVectorizer\n",
    "from sklearn.metrics.pairwise import pairwise_distances\n",
    "from sklearn.feature_extraction.text import ENGLISH_STOP_WORDS\n",
    "from gensim.models import KeyedVectors\n",
    "import csv\n",
    "\n",
    "\n",
    "\n",
    "s1=input(\"Enter Standard Answer : \")\n",
    "s2=input(\"Enter Your Student Answer : \")\n",
    "with open(r\"iot.csv\", 'r', encoding='utf-8') as file:\n",
    "    reader = csv.reader(file)\n",
    "\n",
    "    for row in reader:\n",
    "        column1 = []\n",
    "        column2 = []\n",
    "        # Skip empty rows\n",
    "        if not any(row):\n",
    "            continue\n",
    "\n",
    "        # Access the data in each column of the row\n",
    "        column1_text = row[1]\n",
    "        column2_text = row[2]\n",
    "\n",
    "        # Append the text to the respective lists\n",
    "        column1.append(column1_text)\n",
    "        column2.append(column2_text)\n",
    "\n",
    "        # Convert text to TF-IDF vectors\n",
    "        vectorizer = TfidfVectorizer()\n",
    "        column1_vectors = vectorizer.fit_transform(column1)\n",
    "        column2_vectors = vectorizer.transform(column2)\n",
    "\n",
    "        # Compute Word Mover's Distance\n",
    "        distances = pairwise_distances(column1_vectors , column2_vectors , metric='euclidean', n_jobs=-1)\n",
    "\n",
    "        print(distances)\n"
   ]
  }
 ],
 "metadata": {
  "language_info": {
   "name": "python"
  },
  "orig_nbformat": 4
 },
 "nbformat": 4,
 "nbformat_minor": 2
}

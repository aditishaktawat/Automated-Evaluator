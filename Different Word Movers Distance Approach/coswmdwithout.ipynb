{
 "cells": [
  {
   "cell_type": "code",
   "execution_count": 3,
   "metadata": {},
   "outputs": [
    {
     "name": "stdout",
     "output_type": "stream",
     "text": [
      "[[0.]]\n",
      "[[0.87004684]]\n",
      "[[0.71566858]]\n",
      "[[0.87864258]]\n",
      "[[0.61034171]]\n",
      "[[0.59214434]]\n",
      "[[0.54898568]]\n",
      "[[0.80430983]]\n",
      "[[0.68959445]]\n",
      "[[0.84184183]]\n"
     ]
    }
   ],
   "source": [
    "from sklearn.feature_extraction.text import TfidfVectorizer\n",
    "from sklearn.metrics.pairwise import cosine_similarity\n",
    "import csv\n",
    "\n",
    "with open(r\"iot.csv\", 'r', encoding='utf-8') as file:\n",
    "\n",
    "    reader = csv.reader(file)\n",
    "\n",
    "    for row in reader:\n",
    "        \n",
    "                \n",
    "        column1 = []\n",
    "        column2 = []\n",
    "\n",
    "        # Skip empty rows\n",
    "        if not any(row):\n",
    "            continue\n",
    "\n",
    "        # Access the data in each column of the row\n",
    "        column1_text = row[1]\n",
    "        column2_text = row[2]\n",
    "\n",
    "        # Append the text to the respective lists\n",
    "        column1.append(column1_text)\n",
    "        column2.append(column2_text)\n",
    "\n",
    "        # Convert text to TF-IDF vectors\n",
    "        vectorizer = TfidfVectorizer()\n",
    "        column1_vectors = vectorizer.fit_transform(column1)\n",
    "        column2_vectors = vectorizer.transform(column2)\n",
    "\n",
    "        # Compute cosine similarity\n",
    "        cosine_similarities = cosine_similarity(column1_vectors, column2_vectors)\n",
    "        print(cosine_similarities)\n"
   ]
  },
  {
   "cell_type": "code",
   "execution_count": 4,
   "metadata": {},
   "outputs": [
    {
     "name": "stdout",
     "output_type": "stream",
     "text": [
      "[[1.]]\n",
      "[[0.50981009]]\n",
      "[[0.75409737]]\n",
      "[[0.49266097]]\n",
      "[[0.88278909]]\n",
      "[[0.90316738]]\n",
      "[[0.94975188]]\n",
      "[[0.62560398]]\n",
      "[[0.78791566]]\n",
      "[[0.56242008]]\n"
     ]
    }
   ],
   "source": [
    "from sklearn.feature_extraction.text import TfidfVectorizer\n",
    "from sklearn.metrics.pairwise import pairwise_distances\n",
    "from sklearn.feature_extraction.text import ENGLISH_STOP_WORDS\n",
    "from gensim.models import KeyedVectors\n",
    "import csv\n",
    "\n",
    "\n",
    "\n",
    "with open(r\"iot.csv\", 'r', encoding='utf-8') as file:\n",
    "    reader = csv.reader(file)\n",
    "\n",
    "    for row in reader:\n",
    "        column1 = []\n",
    "        column2 = []\n",
    "        # Skip empty rows\n",
    "        if not any(row):\n",
    "            continue\n",
    "\n",
    "        # Access the data in each column of the row\n",
    "        column1_text = row[1]\n",
    "        column2_text = row[2]\n",
    "\n",
    "        # Append the text to the respective lists\n",
    "        column1.append(column1_text)\n",
    "        column2.append(column2_text)\n",
    "\n",
    "        # Convert text to TF-IDF vectors\n",
    "        vectorizer = TfidfVectorizer()\n",
    "        column1_vectors = vectorizer.fit_transform(column1)\n",
    "        column2_vectors = vectorizer.transform(column2)\n",
    "\n",
    "        # Compute Word Mover's Distance\n",
    "        distances = pairwise_distances(column1_vectors , column2_vectors , metric='euclidean', n_jobs=-1)\n",
    "\n",
    "        print(distances)\n"
   ]
  },
  {
   "cell_type": "code",
   "execution_count": 5,
   "metadata": {},
   "outputs": [
    {
     "name": "stdout",
     "output_type": "stream",
     "text": [
      "[[1.]]\n",
      "[[0.12995316]]\n",
      "[[0.28433142]]\n",
      "[[0.12135742]]\n",
      "[[0.38965829]]\n",
      "[[0.40785566]]\n",
      "[[0.45101432]]\n",
      "[[0.19569017]]\n",
      "[[0.31040555]]\n",
      "[[0.15815817]]\n"
     ]
    }
   ],
   "source": [
    "from sklearn.feature_extraction.text import TfidfVectorizer\n",
    "from sklearn.metrics.pairwise import pairwise_distances\n",
    "from sklearn.feature_extraction.text import ENGLISH_STOP_WORDS\n",
    "from gensim.models import KeyedVectors\n",
    "import csv\n",
    "\n",
    "\n",
    "\n",
    "with open(r\"iot.csv\", 'r', encoding='utf-8') as file:\n",
    "    reader = csv.reader(file)\n",
    "\n",
    "    for row in reader:\n",
    "        column1 = []\n",
    "        column2 = []\n",
    "        # Skip empty rows\n",
    "        if not any(row):\n",
    "            continue\n",
    "\n",
    "        # Access the data in each column of the row\n",
    "        column1_text = row[1]\n",
    "        column2_text = row[2]\n",
    "\n",
    "        # Append the text to the respective lists\n",
    "        column1.append(column1_text)\n",
    "        column2.append(column2_text)\n",
    "\n",
    "        # Convert text to TF-IDF vectors\n",
    "        vectorizer = TfidfVectorizer()\n",
    "        column1_vectors = vectorizer.fit_transform(column1)\n",
    "        column2_vectors = vectorizer.transform(column2)\n",
    "\n",
    "        # Compute Word Mover's Distance\n",
    "        distances = pairwise_distances(column1_vectors , column2_vectors , metric='cosine', n_jobs=-1)\n",
    "\n",
    "        print(distances)\n"
   ]
  },
  {
   "cell_type": "code",
   "execution_count": 6,
   "metadata": {},
   "outputs": [
    {
     "name": "stdout",
     "output_type": "stream",
     "text": [
      "[[1.]]\n",
      "[[4.22897259]]\n",
      "[[6.26446474]]\n",
      "[[3.99994079]]\n",
      "[[6.89800051]]\n",
      "[[6.69210207]]\n",
      "[[7.38607211]]\n",
      "[[5.68377256]]\n",
      "[[7.31207232]]\n",
      "[[5.39399862]]\n"
     ]
    }
   ],
   "source": [
    "from sklearn.feature_extraction.text import TfidfVectorizer\n",
    "from sklearn.metrics.pairwise import pairwise_distances\n",
    "from sklearn.feature_extraction.text import ENGLISH_STOP_WORDS\n",
    "from gensim.models import KeyedVectors\n",
    "import csv\n",
    "\n",
    "\n",
    "\n",
    "with open(r\"iot.csv\", 'r', encoding='utf-8') as file:\n",
    "    reader = csv.reader(file)\n",
    "\n",
    "    for row in reader:\n",
    "        column1 = []\n",
    "        column2 = []\n",
    "        # Skip empty rows\n",
    "        if not any(row):\n",
    "            continue\n",
    "\n",
    "        # Access the data in each column of the row\n",
    "        column1_text = row[1]\n",
    "        column2_text = row[2]\n",
    "\n",
    "        # Append the text to the respective lists\n",
    "        column1.append(column1_text)\n",
    "        column2.append(column2_text)\n",
    "\n",
    "        # Convert text to TF-IDF vectors\n",
    "        vectorizer = TfidfVectorizer()\n",
    "        column1_vectors = vectorizer.fit_transform(column1)\n",
    "        column2_vectors = vectorizer.transform(column2)\n",
    "\n",
    "        # Compute Word Mover's Distance\n",
    "        distances = pairwise_distances(column1_vectors , column2_vectors , metric='manhattan', n_jobs=-1)\n",
    "\n",
    "        print(distances)\n"
   ]
  }
 ],
 "metadata": {
  "kernelspec": {
   "display_name": "Python 3",
   "language": "python",
   "name": "python3"
  },
  "language_info": {
   "codemirror_mode": {
    "name": "ipython",
    "version": 3
   },
   "file_extension": ".py",
   "mimetype": "text/x-python",
   "name": "python",
   "nbconvert_exporter": "python",
   "pygments_lexer": "ipython3",
   "version": "3.11.1"
  },
  "orig_nbformat": 4
 },
 "nbformat": 4,
 "nbformat_minor": 2
}

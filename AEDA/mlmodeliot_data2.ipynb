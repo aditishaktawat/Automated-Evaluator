{
 "cells": [
  {
   "cell_type": "code",
   "execution_count": 1,
   "metadata": {},
   "outputs": [],
   "source": [
    "import numpy as np\n",
    "import pandas as pd\n",
    "import nltk\n",
    "import matplotlib.pyplot as plt\n",
    "import seaborn as sns\n",
    "import re\n",
    "import pickle\n",
    "from sklearn.feature_extraction.text import CountVectorizer\n",
    "from sklearn.model_selection import train_test_split\n",
    "from sklearn.ensemble import RandomForestRegressor\n",
    "from sklearn.svm import SVR\n",
    "from sklearn.metrics import mean_squared_error\n",
    "from sklearn.linear_model import LinearRegression\n",
    "from nltk.corpus import stopwords \n",
    "from nltk.tokenize import word_tokenize\n",
    "import warnings\n",
    "warnings.filterwarnings(\"ignore\", category=FutureWarning)\n",
    "#nltk.download('stopwords')\n",
    "#nltk.download('punkt')"
   ]
  },
  {
   "cell_type": "code",
   "execution_count": 2,
   "metadata": {},
   "outputs": [
    {
     "data": {
      "text/html": [
       "<div>\n",
       "<style scoped>\n",
       "    .dataframe tbody tr th:only-of-type {\n",
       "        vertical-align: middle;\n",
       "    }\n",
       "\n",
       "    .dataframe tbody tr th {\n",
       "        vertical-align: top;\n",
       "    }\n",
       "\n",
       "    .dataframe thead th {\n",
       "        text-align: right;\n",
       "    }\n",
       "</style>\n",
       "<table border=\"1\" class=\"dataframe\">\n",
       "  <thead>\n",
       "    <tr style=\"text-align: right;\">\n",
       "      <th></th>\n",
       "      <th>Question</th>\n",
       "      <th>Standard_Answer</th>\n",
       "      <th>Test_Answer</th>\n",
       "    </tr>\n",
       "  </thead>\n",
       "  <tbody>\n",
       "    <tr>\n",
       "      <th>0</th>\n",
       "      <td>What are the fundamental components of IoT?</td>\n",
       "      <td>Sensors/Devices: Sensors or devices are a key ...</td>\n",
       "      <td>Sensors: A sensor or device is an important co...</td>\n",
       "    </tr>\n",
       "    <tr>\n",
       "      <th>1</th>\n",
       "      <td>What are the fundamental components of IoT?</td>\n",
       "      <td>Sensors/Devices: Sensors or devices are a key ...</td>\n",
       "      <td>Things or Device \\nThese are fitted with senso...</td>\n",
       "    </tr>\n",
       "    <tr>\n",
       "      <th>2</th>\n",
       "      <td>What are the fundamental components of IoT?</td>\n",
       "      <td>Sensors/Devices: Sensors or devices are a key ...</td>\n",
       "      <td>Sensors/Devices\\nFirst, sensors or devices hel...</td>\n",
       "    </tr>\n",
       "    <tr>\n",
       "      <th>3</th>\n",
       "      <td>What is IOT?</td>\n",
       "      <td>Internet of Things (IoT) is a system of interc...</td>\n",
       "      <td>Internet of Things (IoT) is a network of physi...</td>\n",
       "    </tr>\n",
       "    <tr>\n",
       "      <th>4</th>\n",
       "      <td>What is IOT?</td>\n",
       "      <td>Internet of Things (IoT) is a system of interc...</td>\n",
       "      <td>The term IoT (Internet of Things) was coined b...</td>\n",
       "    </tr>\n",
       "  </tbody>\n",
       "</table>\n",
       "</div>"
      ],
      "text/plain": [
       "                                      Question  \\\n",
       "0  What are the fundamental components of IoT?   \n",
       "1  What are the fundamental components of IoT?   \n",
       "2  What are the fundamental components of IoT?   \n",
       "3                                 What is IOT?   \n",
       "4                                 What is IOT?   \n",
       "\n",
       "                                     Standard_Answer  \\\n",
       "0  Sensors/Devices: Sensors or devices are a key ...   \n",
       "1  Sensors/Devices: Sensors or devices are a key ...   \n",
       "2  Sensors/Devices: Sensors or devices are a key ...   \n",
       "3  Internet of Things (IoT) is a system of interc...   \n",
       "4  Internet of Things (IoT) is a system of interc...   \n",
       "\n",
       "                                         Test_Answer  \n",
       "0  Sensors: A sensor or device is an important co...  \n",
       "1  Things or Device \\nThese are fitted with senso...  \n",
       "2  Sensors/Devices\\nFirst, sensors or devices hel...  \n",
       "3  Internet of Things (IoT) is a network of physi...  \n",
       "4  The term IoT (Internet of Things) was coined b...  "
      ]
     },
     "execution_count": 2,
     "metadata": {},
     "output_type": "execute_result"
    }
   ],
   "source": [
    "df = pd.read_csv(\"iot_dataset.tsv\", sep='\\t', encoding='ISO-8859-1');\n",
    "df.head()"
   ]
  },
  {
   "cell_type": "code",
   "execution_count": 3,
   "metadata": {},
   "outputs": [
    {
     "data": {
      "text/html": [
       "<div>\n",
       "<style scoped>\n",
       "    .dataframe tbody tr th:only-of-type {\n",
       "        vertical-align: middle;\n",
       "    }\n",
       "\n",
       "    .dataframe tbody tr th {\n",
       "        vertical-align: top;\n",
       "    }\n",
       "\n",
       "    .dataframe thead th {\n",
       "        text-align: right;\n",
       "    }\n",
       "</style>\n",
       "<table border=\"1\" class=\"dataframe\">\n",
       "  <thead>\n",
       "    <tr style=\"text-align: right;\">\n",
       "      <th></th>\n",
       "      <th>Question</th>\n",
       "      <th>Standard_Answer</th>\n",
       "      <th>Test_Answer</th>\n",
       "    </tr>\n",
       "  </thead>\n",
       "  <tbody>\n",
       "    <tr>\n",
       "      <th>count</th>\n",
       "      <td>9</td>\n",
       "      <td>9</td>\n",
       "      <td>9</td>\n",
       "    </tr>\n",
       "    <tr>\n",
       "      <th>unique</th>\n",
       "      <td>3</td>\n",
       "      <td>3</td>\n",
       "      <td>9</td>\n",
       "    </tr>\n",
       "    <tr>\n",
       "      <th>top</th>\n",
       "      <td>What are the fundamental components of IoT?</td>\n",
       "      <td>Sensors/Devices: Sensors or devices are a key ...</td>\n",
       "      <td>Sensors: A sensor or device is an important co...</td>\n",
       "    </tr>\n",
       "    <tr>\n",
       "      <th>freq</th>\n",
       "      <td>3</td>\n",
       "      <td>3</td>\n",
       "      <td>1</td>\n",
       "    </tr>\n",
       "  </tbody>\n",
       "</table>\n",
       "</div>"
      ],
      "text/plain": [
       "                                           Question  \\\n",
       "count                                             9   \n",
       "unique                                            3   \n",
       "top     What are the fundamental components of IoT?   \n",
       "freq                                              3   \n",
       "\n",
       "                                          Standard_Answer  \\\n",
       "count                                                   9   \n",
       "unique                                                  3   \n",
       "top     Sensors/Devices: Sensors or devices are a key ...   \n",
       "freq                                                    3   \n",
       "\n",
       "                                              Test_Answer  \n",
       "count                                                   9  \n",
       "unique                                                  9  \n",
       "top     Sensors: A sensor or device is an important co...  \n",
       "freq                                                    1  "
      ]
     },
     "execution_count": 3,
     "metadata": {},
     "output_type": "execute_result"
    }
   ],
   "source": [
    "df.describe()"
   ]
  },
  {
   "cell_type": "code",
   "execution_count": 4,
   "metadata": {},
   "outputs": [
    {
     "name": "stdout",
     "output_type": "stream",
     "text": [
      "<class 'pandas.core.frame.DataFrame'>\n",
      "RangeIndex: 9 entries, 0 to 8\n",
      "Data columns (total 3 columns):\n",
      " #   Column           Non-Null Count  Dtype \n",
      "---  ------           --------------  ----- \n",
      " 0   Question         9 non-null      object\n",
      " 1   Standard_Answer  9 non-null      object\n",
      " 2   Test_Answer      9 non-null      object\n",
      "dtypes: object(3)\n",
      "memory usage: 344.0+ bytes\n"
     ]
    }
   ],
   "source": [
    "df.info()"
   ]
  },
  {
   "cell_type": "code",
   "execution_count": 5,
   "metadata": {},
   "outputs": [
    {
     "data": {
      "text/plain": [
       "(9, 3)"
      ]
     },
     "execution_count": 5,
     "metadata": {},
     "output_type": "execute_result"
    }
   ],
   "source": [
    "df.shape"
   ]
  },
  {
   "cell_type": "code",
   "execution_count": 6,
   "metadata": {},
   "outputs": [
    {
     "data": {
      "text/plain": [
       "Question           0\n",
       "Standard_Answer    0\n",
       "Test_Answer        0\n",
       "dtype: int64"
      ]
     },
     "execution_count": 6,
     "metadata": {},
     "output_type": "execute_result"
    }
   ],
   "source": [
    "df.isnull().sum()"
   ]
  },
  {
   "cell_type": "code",
   "execution_count": 7,
   "metadata": {},
   "outputs": [
    {
     "data": {
      "text/plain": [
       "Series([], Name: Standard_Answer, dtype: object)"
      ]
     },
     "execution_count": 7,
     "metadata": {},
     "output_type": "execute_result"
    }
   ],
   "source": [
    "df[df['Standard_Answer']==1]['Standard_Answer']\n"
   ]
  },
  {
   "cell_type": "code",
   "execution_count": 8,
   "metadata": {},
   "outputs": [],
   "source": [
    "df.dropna(axis=1,inplace=True)"
   ]
  },
  {
   "cell_type": "code",
   "execution_count": 9,
   "metadata": {},
   "outputs": [
    {
     "data": {
      "text/plain": [
       "(9, 3)"
      ]
     },
     "execution_count": 9,
     "metadata": {},
     "output_type": "execute_result"
    }
   ],
   "source": [
    "df.shape"
   ]
  },
  {
   "cell_type": "code",
   "execution_count": 10,
   "metadata": {},
   "outputs": [
    {
     "data": {
      "text/html": [
       "<div>\n",
       "<style scoped>\n",
       "    .dataframe tbody tr th:only-of-type {\n",
       "        vertical-align: middle;\n",
       "    }\n",
       "\n",
       "    .dataframe tbody tr th {\n",
       "        vertical-align: top;\n",
       "    }\n",
       "\n",
       "    .dataframe thead th {\n",
       "        text-align: right;\n",
       "    }\n",
       "</style>\n",
       "<table border=\"1\" class=\"dataframe\">\n",
       "  <thead>\n",
       "    <tr style=\"text-align: right;\">\n",
       "      <th></th>\n",
       "      <th>Question</th>\n",
       "      <th>Standard_Answer</th>\n",
       "      <th>Test_Answer</th>\n",
       "    </tr>\n",
       "  </thead>\n",
       "  <tbody>\n",
       "    <tr>\n",
       "      <th>0</th>\n",
       "      <td>What are the fundamental components of IoT?</td>\n",
       "      <td>Sensors/Devices: Sensors or devices are a key ...</td>\n",
       "      <td>Sensors: A sensor or device is an important co...</td>\n",
       "    </tr>\n",
       "    <tr>\n",
       "      <th>1</th>\n",
       "      <td>What are the fundamental components of IoT?</td>\n",
       "      <td>Sensors/Devices: Sensors or devices are a key ...</td>\n",
       "      <td>Things or Device \\nThese are fitted with senso...</td>\n",
       "    </tr>\n",
       "    <tr>\n",
       "      <th>2</th>\n",
       "      <td>What are the fundamental components of IoT?</td>\n",
       "      <td>Sensors/Devices: Sensors or devices are a key ...</td>\n",
       "      <td>Sensors/Devices\\nFirst, sensors or devices hel...</td>\n",
       "    </tr>\n",
       "    <tr>\n",
       "      <th>3</th>\n",
       "      <td>What is IOT?</td>\n",
       "      <td>Internet of Things (IoT) is a system of interc...</td>\n",
       "      <td>Internet of Things (IoT) is a network of physi...</td>\n",
       "    </tr>\n",
       "    <tr>\n",
       "      <th>4</th>\n",
       "      <td>What is IOT?</td>\n",
       "      <td>Internet of Things (IoT) is a system of interc...</td>\n",
       "      <td>The term IoT (Internet of Things) was coined b...</td>\n",
       "    </tr>\n",
       "  </tbody>\n",
       "</table>\n",
       "</div>"
      ],
      "text/plain": [
       "                                      Question  \\\n",
       "0  What are the fundamental components of IoT?   \n",
       "1  What are the fundamental components of IoT?   \n",
       "2  What are the fundamental components of IoT?   \n",
       "3                                 What is IOT?   \n",
       "4                                 What is IOT?   \n",
       "\n",
       "                                     Standard_Answer  \\\n",
       "0  Sensors/Devices: Sensors or devices are a key ...   \n",
       "1  Sensors/Devices: Sensors or devices are a key ...   \n",
       "2  Sensors/Devices: Sensors or devices are a key ...   \n",
       "3  Internet of Things (IoT) is a system of interc...   \n",
       "4  Internet of Things (IoT) is a system of interc...   \n",
       "\n",
       "                                         Test_Answer  \n",
       "0  Sensors: A sensor or device is an important co...  \n",
       "1  Things or Device \\nThese are fitted with senso...  \n",
       "2  Sensors/Devices\\nFirst, sensors or devices hel...  \n",
       "3  Internet of Things (IoT) is a network of physi...  \n",
       "4  The term IoT (Internet of Things) was coined b...  "
      ]
     },
     "execution_count": 10,
     "metadata": {},
     "output_type": "execute_result"
    }
   ],
   "source": [
    "df.head()"
   ]
  },
  {
   "cell_type": "code",
   "execution_count": 11,
   "metadata": {},
   "outputs": [
    {
     "data": {
      "text/plain": [
       "Standard_Answer                                                                                                                                                                                                                                                                                                                                                                                                                                                                                                                                                                                                                                                                                                                                                                                                                                                                                                                                                                                                                                                                                                                                                                                                                                                                                                                                                                                                                                                                                                                                                                                                                                                                                                                                                                                                                                                                                                                             Test_Answer                                                                                                                                                                                                                                                                                                                                                                                                                                                                                                                                                                                                                                                                                                                                                                                                                                                                                                                                                                                                                                                                                                                                                                                                                                                                                                                                                                                                                                                                                                                                                                                                                                                                                                                                                                                                                                                                                                                                                                                                                                                                                                                                                                                                                                                                                                                                                                                                                                                                                                                                               \n",
       "1. Privacy\\nIoT devices are vulnerable to hacking. Many IoT devices collect personal information and some of them send this personal information across the network without any encryption. This information can be easily traced and read by hackers. Cloud endpoints could also be used by hackers to attack servers. \\n\\n2. Web interface\\nSimple default passwords pose a threat when it comes to the user web interface. The use of weak passwords on the web interface may enable hackers to easily identify accounts of users and misuse them. \\n\\nCheck out the Top Security Courses For IT Professionals\\n\\n3. Rogue IoT Devices\\nRogue IoT devices are just plain counterfeit malicious devices that are installed in secured networks without authorization. Some examples of rogue IoT devices are Raspberry Pi and WiFi Pineapple. A rogue device either replaces the original IoT device or appears as a member of a group to gather sensitive information. These devices break the network perimeter.\\n\\n4. Insufficient testing & Lack of updates\\nThe IoT market is fast-paced, which is why many companies or manufacturers are in a hurry to create and release their products and software without sufficiently testing them. Some of them also fail in providing timely software updates.\\n\\nCompared to other devices like smartphones, IoT devices continue to be used without the necessary updates, which can enable hackers to steal sensitive information. Thus, sufficient testing and timely updates are critical for maintaining security on IoT devices. They should be updated right after new vulnerabilities are identified. \\n\\n5. Lack of user Knowledge & Awareness\\nSince IoT is a new technology, people still do not know much about it. One of the biggest security threats related to IoT is the userâs lack of knowledge and awareness of the IoT functionality. This puts everybody at risk.  Privacy: Connected IoT devices are vulnerable to hacking. Many IoT devices collect and transmit personal data over an open network without encryption, making it easy for hackers to access. Hackers may also use cloud endpoints to attack servers.\\nInsufficient testing & Outdated product: In a fast-paced market like IoT, many companies or manufacturers rush to start releasing their products and software without doing enough testing. Many of them don't provide timely updates as well. Unlike other devices such as smartphones, IoT devices are not updated, which can leave them vulnerable to data theft. Thus, IoT devices should be tested thoroughly and updated as soon as new vulnerabilities are identified in order to maintain security.\\nLack of knowledge and awareness: Despite being a growing technology, people do not know much about IoT. A major security threat associated with IoT is the user's lack of knowledge and awareness of its capabilities. This poses a threat to all users.\\nNetwork Connectivity: Network connectivity can be challenging for many IoT devices. Particularly if such devices are widely dispersed, in remote locations, or if bandwidth is severely limited.\\nReliability: Given the highly distributed nature of IoT devices, it can be difficult to ensure the reliability of IoT systems. Various conditions can affect the components that make up an IoT system, such as natural disasters, disruptions in cloud services, power outages, and system failures.                                                                                                                                                                                                                                                                                                                                                                                                                                                                                                                                                                                                                                                                                                                                                                                                                                                                                                                                                                                                                          1\n",
       "                                                                                                                                                                                                                                                                                                                                                                                                                                                                                                                                                                                                                                                                                                                                                                                                                                                                                                                                                                                                                                                                                                                                                                                                                                                                                                                                                                                                                                                                                                                                                                                                                                                                                                                                                                                                                                                                                                                                            Privacy: With IoT devices, you will always be concerned regarding data security and privacy. IoT devices are a setup of many connected devices vulnerable to hacking. Many IoT devices collect and transmit personal data over an open network without encryption that may be easy for hackers to access. Hackers may also use cloud endpoints to attack servers.\\n\\nReliability: IoT devices have a highly distributed nature. That's why it is difficult to ensure the reliability of IoT systems. Several conditions can affect the components of IoT systems, such as natural disasters, disruptions in cloud services, power outages, and system failures.\\n\\nNetwork Connectivity and Control: Network connectivity is a must for IoT devices, but sometimes, it may be challenging, particularly if the connected devices are widely dispersed in remote locations or if bandwidth is severely limited.  Constant and Continuous Power Supply: IoT devices require a constant and continuous power supply to act properly. It may not be easy in some cases.\\n\\nInsufficient testing and updating: The market of IoT is very new and fast-paced. Many companies or manufacturers rush to start releasing their products and software without doing enough testing and proper updating. Many of them don't provide timely updates, leaving them vulnerable to data theft. IoT devices should be tested thoroughly and updated as soon as new vulnerabilities are identified to maintain security and win customers' trust.\\n\\nLack of knowledge and awareness: IoT is a very new and growing technology, so; people do not have proper knowledge or awareness about these devices. It may also act as a security threat to users' confidentiality.                                                                                                                                                                                                                                                                                                                                                                                                                                                                                                                                                                                                                                                                                                                                                                                                      1\n",
       "                                                                                                                                                                                                                                                                                                                                                                                                                                                                                                                                                                                                                                                                                                                                                                                                                                                                                                                                                                                                                                                                                                                                                                                                                                                                                                                                                                                                                                                                                                                                                                                                                                                                                                                                                                                                                                                                                                                                            Security: IoT technology creates an ecosystem of connected devices. However, during this process, the system may offer little authentication control despite sufficient cybersecurity measures.\\nPrivacy: The use of IoT, exposes a substantial amount of personal data, in extreme detail, without the userâs active participation. This creates lots of privacy issues.\\nFlexibility: There is a huge concern regarding the flexibility of an IoT system. It is mainly regarding integrating with another system as there are many diverse systems involved in the process.\\nComplexity: The design of the IoT system is also quite complicated. Moreover, itâs deployment and maintenance also not very easy.\\nCompliance: IoT has its own set of rules and regulations. However, because of its complexity, the task of compliance is quite challenging.                                                                                                                                                                                                                                                                                                                                                                                                                                                                                                                                                                                                                                                                                                                                                                                                                                                                                                                                                                                                                                                                                                                                                                                                                                                                                                                                                                                                                                                                                                                                                                                                                                                                                              1\n",
       "Internet of Things (IoT) is a system of interconnected objects, usually called smart devices, through the Internet. The object can be a heart monitor, a remote, or an automobile with built-in sensors. That is objects that have been assigned an IP address and have the capability to collect and transfer data over a network. The objects interact with the external environment with the help of embedded technology, which helps them in taking decisions. Since these devices can now represent themselves digitally. \\n\\nIn other words âThe globally ruling technology acts as a single key to shrinking this whole universe to a tiny globally connected village, whereas IoT comprises just two words that precisely depict its definition.â                                                                                                                                                                                                                                                                                                                                                                                                                                                                                                                                                                                                                                                                                                                                                                                                                                                                                                                                                                                                                                                                                                                                                                               Cloud-based storage and computing, Cyber-Physical Systems, and big data networks can all be integrated with IoT. The IoT primarily focuses on expanding internet connectivity from standard devices (such as computers, mobile phones, or tablets) to relatively dumb ones like toasters. It turns old \"dumb\" devices into \"smart\" ones by making them able to transmit data over the internet, facilitating communication with people and other IoT-enabled devices.                                                                                                                                                                                                                                                                                                                                                                                                                                                                                                                                                                                                                                                                                                                                                                                                                                                                                                                                                                                                                                                                                                                                                                                                                                                                                                                                                                                                                                                                                                                                                                                                                                                                                                                                                                                                                                                                                                                                                                                                                                                                                         1\n",
       "                                                                                                                                                                                                                                                                                                                                                                                                                                                                                                                                                                                                                                                                                                                                                                                                                                                                                                                                                                                                                                                                                                                                                                                                                                                                                                                                                                                                                                                                                                                                                                                                                                                                                                                                                                                                                                                                                                                                            Internet of Things (IoT) is a network of physical objects or people called âthingsâ that are embedded with software, electronics, network, and sensors that allow these objects to collect and exchange data. The goal of IoT is to extend to internet connectivity from standard devices like computer, mobile, tablet to relatively dumb devices like a toaster.                                                                                                                                                                                                                                                                                                                                                                                                                                                                                                                                                                                                                                                                                                                                                                                                                                                                                                                                                                                                                                                                                                                                                                                                                                                                                                                                                                                                                                                                                                                                                                                                                                                                                                                                                                                                                                                                                                                                                                                                                                                                                                                                                                                        1\n",
       "                                                                                                                                                                                                                                                                                                                                                                                                                                                                                                                                                                                                                                                                                                                                                                                                                                                                                                                                                                                                                                                                                                                                                                                                                                                                                                                                                                                                                                                                                                                                                                                                                                                                                                                                                                                                                                                                                                                                            The term IoT (Internet of Things) was coined by Kevin Ashton in 1999. It is referred to as a network comprised of interconnected physical objects (referred to as \"things\") worldwide that are capable of collecting and exchanging data without human interaction. These devices contain embedded systems (software, electronics, networks, and sensors) that are able to collect data about the surrounding environment, transmit data over a network, respond to remote commands, or take actions based on data collected. There are many IoT devices or things available today, including wearables, implants, vehicles, machinery, smartphones, appliances, computing systems, or any other item that can send and receive data.                                                                                                                                                                                                                                                                                                                                                                                                                                                                                                                                                                                                                                                                                                                                                                                                                                                                                                                                                                                                                                                                                                                                                                                                                                                                                                                                                                                                                                                                                                                                                                                                                                                                                                                                                                                                                         1\n",
       "Sensors/Devices: Sensors or devices are a key component that helps you to collect live data from the surrounding environment. All this data may have various levels of complexities. It could be a simple temperature monitoring sensor, or it may be in the form of the video feed.\\nConnectivity: All the collected data is sent to a cloud infrastructure. The sensors should be connected to the cloud using various mediums of communications. These communication mediums include mobile or satellite networks, Bluetooth, WI-FI, WAN, etc.\\nData Processing: Once that data is collected, and it gets to the cloud, the software product performs processing on the gathered data. This process can be just checking the temperature, reading on devices like AC or heaters. However, it can sometimes also be very complex, like identifying objects, using computer vision on video.\\nUser Interface: The information needs to be available to the end-user in some way, which can be achieved by triggering alarms on their phones or sending them notification through email or text message. The user sometimes might need an interface which actively checks their IoT system.                                                                                                                                                                                                                                                                                                                                                                                                                                                                                                                                                                                                                                                                                                                                                 Sensors/Devices\\nFirst, sensors or devices help in collecting very minute data from the surrounding environment. All of this collected data can have various degrees of complexities ranging from a simple temperature monitoring sensor or a complex full video feed.\\n\\nA device can have multiple sensors that can bundle together to do more than just sense things. For example, our phone is a device that has multiple sensors such as GPS, accelerometer, camera but our phone does not simply sense things.\\n\\nThe most rudimentary step will always remain to pick and collect data from the surrounding environment be it a standalone sensor or multiple devices. Connectivity\\nNext, that collected data is sent to a cloud infrastructure but it needs a medium for transport.\\n\\nThe sensors can be connected to the cloud through various mediums of communication and transports such as cellular networks, satellite networks, Wi-Fi, Bluetooth, wide-area networks (WAN), low power wide area network and many more.\\n\\nEvery option we choose has some specifications and trade-offs between power consumption, range, and bandwidth. So, choosing the best connectivity option in the IOT system is important. Data Processing\\nOnce the data is collected and it gets to the cloud, the software performs processing on the acquired data.\\n\\nThis can range from something very simple, such as checking that the temperature reading on devices such as AC or heaters is within an acceptable range. It can sometimes also be very complex, such as identifying objects (such as intruders in your house) using computer vision on video.\\n\\nBut there might be a situation when a user interaction is required, example- what if when the temperature is too high or if there is an intruder in your house? Thatâs where the user comes into the picture.  User Interface\\nNext, the information made available to the end-user in some way. This can achieve by triggering alarms on their phones or notifying through texts or emails.\\n\\nAlso, a user sometimes might also have an interface through which they can actively check in on their IOT system. For example, a user has a camera installed in his house, he might want to check the video recordings and all the feeds through a web server.\\n\\nHowever, itâs not always this easy and a one-way street. Depending on the IoT application and complexity of the system, the user may also be able to perform an action that may backfire and affect the system.    1\n",
       "                                                                                                                                                                                                                                                                                                                                                                                                                                                                                                                                                                                                                                                                                                                                                                                                                                                                                                                                                                                                                                                                                                                                                                                                                                                                                                                                                                                                                                                                                                                                                                                                                                                                                                                                                                                                                                                                                                                                            Sensors: A sensor or device is an important component for gathering live data from the surrounding environment. The nature of this data can vary. This could be as simple as your phone having a temperature sensor, GPS, an accelerometer, or as complex as a live video feature on a social media platform. Sensors make it possible for IoT devices to connect to the real world and environment.\\nConnectivity: Upon collection, all data is sent to a cloud infrastructure. This could be done by connecting the sensors to the cloud using a variety of communication mediums such as mobile or satellite networks, Bluetooth, WI-FI, WAN, etc. Various IoT devices use different types of connectivity.\\nData Processing: Once the data has been collected, and has reached the cloud, it is the responsibility of the data processors to process it. Data processing software can enhance IoT devices in a wide range of ways, from adjusting the temperature of the air conditioner to recognizing faces on mobile phones.\\nUser Interface: An IoT device interacts with a user through a User Interface. A user interface is the visible, tangible component of an IoT system that can be accessed by users. It involves presenting the information in a way that is valuable to the end-user. A well-designed user interface will simplify the experience for users and encourage them to interact more. Information needs to be made accessible to end-users in some way, like sending them alerts via notification, email or text message.                                                                                                                                                                                                                                                                                                                                                                                                                                                                                                                                                                                                                                                                                                                                                                                                                                                                                                                                                                                                       1\n",
       "                                                                                                                                                                                                                                                                                                                                                                                                                                                                                                                                                                                                                                                                                                                                                                                                                                                                                                                                                                                                                                                                                                                                                                                                                                                                                                                                                                                                                                                                                                                                                                                                                                                                                                                                                                                                                                                                                                                                            Things or Device \\nThese are fitted with sensors and actuators. Sensors collect data from the environment and give to gateway where as actuators performs the action (as directed after processing of data). \\n \\nGateway \\nThe sensors give data to Gateway and here some kind of pre-processing of data is even done. It also acts as a level of security for the network and for the transmitted data. \\n \\nCloud \\nThe data after being collected is uploaded to cloud. Cloud in simple terms is basically a set of servers connected to internet 24*7. \\n \\nAnalytics \\nThe data after being received in the cloud processing is done . Various algorithms are applied here for proper analysis of data (techniques like Machine Learning etc are even applied). \\n \\nUser Interface \\nUser end application where user can monitor or control the data.                                                                                                                                                                                                                                                                                                                                                                                                                                                                                                                                                                                                                                                                                                                                                                                                                                                                                                                                                                                                                                                                                                                                                                                                                                                                                                                                                                                                                                                                                                                                                                                                                                                                                                  1\n",
       "dtype: int64"
      ]
     },
     "execution_count": 11,
     "metadata": {},
     "output_type": "execute_result"
    }
   ],
   "source": [
    "df[['Standard_Answer', 'Test_Answer']].value_counts()\n"
   ]
  },
  {
   "cell_type": "code",
   "execution_count": 12,
   "metadata": {},
   "outputs": [],
   "source": [
    "df.drop(columns=['Standard_Answer','Test_Answer'],inplace=True,axis=2)"
   ]
  },
  {
   "cell_type": "code",
   "execution_count": 13,
   "metadata": {},
   "outputs": [
    {
     "data": {
      "text/plain": [
       "(9, 1)"
      ]
     },
     "execution_count": 13,
     "metadata": {},
     "output_type": "execute_result"
    }
   ],
   "source": [
    "df.shape"
   ]
  },
  {
   "cell_type": "code",
   "execution_count": 14,
   "metadata": {},
   "outputs": [
    {
     "data": {
      "text/html": [
       "<div>\n",
       "<style scoped>\n",
       "    .dataframe tbody tr th:only-of-type {\n",
       "        vertical-align: middle;\n",
       "    }\n",
       "\n",
       "    .dataframe tbody tr th {\n",
       "        vertical-align: top;\n",
       "    }\n",
       "\n",
       "    .dataframe thead th {\n",
       "        text-align: right;\n",
       "    }\n",
       "</style>\n",
       "<table border=\"1\" class=\"dataframe\">\n",
       "  <thead>\n",
       "    <tr style=\"text-align: right;\">\n",
       "      <th></th>\n",
       "      <th>Question</th>\n",
       "    </tr>\n",
       "  </thead>\n",
       "  <tbody>\n",
       "    <tr>\n",
       "      <th>0</th>\n",
       "      <td>What are the fundamental components of IoT?</td>\n",
       "    </tr>\n",
       "    <tr>\n",
       "      <th>1</th>\n",
       "      <td>What are the fundamental components of IoT?</td>\n",
       "    </tr>\n",
       "    <tr>\n",
       "      <th>2</th>\n",
       "      <td>What are the fundamental components of IoT?</td>\n",
       "    </tr>\n",
       "    <tr>\n",
       "      <th>3</th>\n",
       "      <td>What is IOT?</td>\n",
       "    </tr>\n",
       "    <tr>\n",
       "      <th>4</th>\n",
       "      <td>What is IOT?</td>\n",
       "    </tr>\n",
       "  </tbody>\n",
       "</table>\n",
       "</div>"
      ],
      "text/plain": [
       "                                      Question\n",
       "0  What are the fundamental components of IoT?\n",
       "1  What are the fundamental components of IoT?\n",
       "2  What are the fundamental components of IoT?\n",
       "3                                 What is IOT?\n",
       "4                                 What is IOT?"
      ]
     },
     "execution_count": 14,
     "metadata": {},
     "output_type": "execute_result"
    }
   ],
   "source": [
    "df.head()"
   ]
  },
  {
   "cell_type": "code",
   "execution_count": 15,
   "metadata": {},
   "outputs": [
    {
     "data": {
      "text/plain": [
       "Series([], dtype: float64)"
      ]
     },
     "execution_count": 15,
     "metadata": {},
     "output_type": "execute_result"
    }
   ],
   "source": [
    "df.skew()"
   ]
  },
  {
   "cell_type": "code",
   "execution_count": 16,
   "metadata": {},
   "outputs": [
    {
     "data": {
      "text/plain": [
       "Series([], dtype: float64)"
      ]
     },
     "execution_count": 16,
     "metadata": {},
     "output_type": "execute_result"
    }
   ],
   "source": [
    "df.kurtosis()"
   ]
  },
  {
   "cell_type": "code",
   "execution_count": 17,
   "metadata": {},
   "outputs": [
    {
     "data": {
      "text/plain": [
       "Series([], dtype: float64)"
      ]
     },
     "execution_count": 17,
     "metadata": {},
     "output_type": "execute_result"
    }
   ],
   "source": [
    "df.skew()"
   ]
  },
  {
   "cell_type": "code",
   "execution_count": 18,
   "metadata": {},
   "outputs": [
    {
     "data": {
      "text/html": [
       "<div>\n",
       "<style scoped>\n",
       "    .dataframe tbody tr th:only-of-type {\n",
       "        vertical-align: middle;\n",
       "    }\n",
       "\n",
       "    .dataframe tbody tr th {\n",
       "        vertical-align: top;\n",
       "    }\n",
       "\n",
       "    .dataframe thead th {\n",
       "        text-align: right;\n",
       "    }\n",
       "</style>\n",
       "<table border=\"1\" class=\"dataframe\">\n",
       "  <thead>\n",
       "    <tr style=\"text-align: right;\">\n",
       "      <th></th>\n",
       "      <th>Question</th>\n",
       "    </tr>\n",
       "  </thead>\n",
       "  <tbody>\n",
       "    <tr>\n",
       "      <th>0</th>\n",
       "      <td>What are the fundamental components of IoT?</td>\n",
       "    </tr>\n",
       "    <tr>\n",
       "      <th>1</th>\n",
       "      <td>What are the fundamental components of IoT?</td>\n",
       "    </tr>\n",
       "    <tr>\n",
       "      <th>2</th>\n",
       "      <td>What are the fundamental components of IoT?</td>\n",
       "    </tr>\n",
       "    <tr>\n",
       "      <th>3</th>\n",
       "      <td>What is IOT?</td>\n",
       "    </tr>\n",
       "    <tr>\n",
       "      <th>4</th>\n",
       "      <td>What is IOT?</td>\n",
       "    </tr>\n",
       "  </tbody>\n",
       "</table>\n",
       "</div>"
      ],
      "text/plain": [
       "                                      Question\n",
       "0  What are the fundamental components of IoT?\n",
       "1  What are the fundamental components of IoT?\n",
       "2  What are the fundamental components of IoT?\n",
       "3                                 What is IOT?\n",
       "4                                 What is IOT?"
      ]
     },
     "execution_count": 18,
     "metadata": {},
     "output_type": "execute_result"
    }
   ],
   "source": [
    "df.head()"
   ]
  },
  {
   "cell_type": "code",
   "execution_count": 19,
   "metadata": {},
   "outputs": [
    {
     "data": {
      "text/html": [
       "<div>\n",
       "<style scoped>\n",
       "    .dataframe tbody tr th:only-of-type {\n",
       "        vertical-align: middle;\n",
       "    }\n",
       "\n",
       "    .dataframe tbody tr th {\n",
       "        vertical-align: top;\n",
       "    }\n",
       "\n",
       "    .dataframe thead th {\n",
       "        text-align: right;\n",
       "    }\n",
       "</style>\n",
       "<table border=\"1\" class=\"dataframe\">\n",
       "  <thead>\n",
       "    <tr style=\"text-align: right;\">\n",
       "      <th></th>\n",
       "      <th>Question</th>\n",
       "    </tr>\n",
       "  </thead>\n",
       "  <tbody>\n",
       "    <tr>\n",
       "      <th>count</th>\n",
       "      <td>9</td>\n",
       "    </tr>\n",
       "    <tr>\n",
       "      <th>unique</th>\n",
       "      <td>3</td>\n",
       "    </tr>\n",
       "    <tr>\n",
       "      <th>top</th>\n",
       "      <td>What are the fundamental components of IoT?</td>\n",
       "    </tr>\n",
       "    <tr>\n",
       "      <th>freq</th>\n",
       "      <td>3</td>\n",
       "    </tr>\n",
       "  </tbody>\n",
       "</table>\n",
       "</div>"
      ],
      "text/plain": [
       "                                           Question\n",
       "count                                             9\n",
       "unique                                            3\n",
       "top     What are the fundamental components of IoT?\n",
       "freq                                              3"
      ]
     },
     "execution_count": 19,
     "metadata": {},
     "output_type": "execute_result"
    }
   ],
   "source": [
    "df.describe()"
   ]
  },
  {
   "cell_type": "code",
   "execution_count": 20,
   "metadata": {},
   "outputs": [
    {
     "data": {
      "text/html": [
       "<div>\n",
       "<style scoped>\n",
       "    .dataframe tbody tr th:only-of-type {\n",
       "        vertical-align: middle;\n",
       "    }\n",
       "\n",
       "    .dataframe tbody tr th {\n",
       "        vertical-align: top;\n",
       "    }\n",
       "\n",
       "    .dataframe thead th {\n",
       "        text-align: right;\n",
       "    }\n",
       "</style>\n",
       "<table border=\"1\" class=\"dataframe\">\n",
       "  <thead>\n",
       "    <tr style=\"text-align: right;\">\n",
       "      <th></th>\n",
       "      <th>Question</th>\n",
       "    </tr>\n",
       "  </thead>\n",
       "  <tbody>\n",
       "    <tr>\n",
       "      <th>0</th>\n",
       "      <td>What are the fundamental components of IoT?</td>\n",
       "    </tr>\n",
       "    <tr>\n",
       "      <th>1</th>\n",
       "      <td>What are the fundamental components of IoT?</td>\n",
       "    </tr>\n",
       "    <tr>\n",
       "      <th>2</th>\n",
       "      <td>What are the fundamental components of IoT?</td>\n",
       "    </tr>\n",
       "    <tr>\n",
       "      <th>3</th>\n",
       "      <td>What is IOT?</td>\n",
       "    </tr>\n",
       "    <tr>\n",
       "      <th>4</th>\n",
       "      <td>What is IOT?</td>\n",
       "    </tr>\n",
       "  </tbody>\n",
       "</table>\n",
       "</div>"
      ],
      "text/plain": [
       "                                      Question\n",
       "0  What are the fundamental components of IoT?\n",
       "1  What are the fundamental components of IoT?\n",
       "2  What are the fundamental components of IoT?\n",
       "3                                 What is IOT?\n",
       "4                                 What is IOT?"
      ]
     },
     "execution_count": 20,
     "metadata": {},
     "output_type": "execute_result"
    }
   ],
   "source": [
    "df.head()"
   ]
  },
  {
   "cell_type": "code",
   "execution_count": 21,
   "metadata": {},
   "outputs": [
    {
     "ename": "KeyError",
     "evalue": "'Standard_Answer'",
     "output_type": "error",
     "traceback": [
      "\u001b[1;31m---------------------------------------------------------------------------\u001b[0m",
      "\u001b[1;31mKeyError\u001b[0m                                  Traceback (most recent call last)",
      "File \u001b[1;32mc:\\Users\\V\\AppData\\Local\\Programs\\Python\\Python311\\Lib\\site-packages\\pandas\\core\\indexes\\base.py:3803\u001b[0m, in \u001b[0;36mIndex.get_loc\u001b[1;34m(self, key, method, tolerance)\u001b[0m\n\u001b[0;32m   3802\u001b[0m \u001b[39mtry\u001b[39;00m:\n\u001b[1;32m-> 3803\u001b[0m     \u001b[39mreturn\u001b[39;00m \u001b[39mself\u001b[39;49m\u001b[39m.\u001b[39;49m_engine\u001b[39m.\u001b[39;49mget_loc(casted_key)\n\u001b[0;32m   3804\u001b[0m \u001b[39mexcept\u001b[39;00m \u001b[39mKeyError\u001b[39;00m \u001b[39mas\u001b[39;00m err:\n",
      "File \u001b[1;32mc:\\Users\\V\\AppData\\Local\\Programs\\Python\\Python311\\Lib\\site-packages\\pandas\\_libs\\index.pyx:138\u001b[0m, in \u001b[0;36mpandas._libs.index.IndexEngine.get_loc\u001b[1;34m()\u001b[0m\n",
      "File \u001b[1;32mc:\\Users\\V\\AppData\\Local\\Programs\\Python\\Python311\\Lib\\site-packages\\pandas\\_libs\\index.pyx:165\u001b[0m, in \u001b[0;36mpandas._libs.index.IndexEngine.get_loc\u001b[1;34m()\u001b[0m\n",
      "File \u001b[1;32mpandas\\_libs\\hashtable_class_helper.pxi:5745\u001b[0m, in \u001b[0;36mpandas._libs.hashtable.PyObjectHashTable.get_item\u001b[1;34m()\u001b[0m\n",
      "File \u001b[1;32mpandas\\_libs\\hashtable_class_helper.pxi:5753\u001b[0m, in \u001b[0;36mpandas._libs.hashtable.PyObjectHashTable.get_item\u001b[1;34m()\u001b[0m\n",
      "\u001b[1;31mKeyError\u001b[0m: 'Standard_Answer'",
      "\nThe above exception was the direct cause of the following exception:\n",
      "\u001b[1;31mKeyError\u001b[0m                                  Traceback (most recent call last)",
      "Cell \u001b[1;32mIn[21], line 13\u001b[0m\n\u001b[0;32m      5\u001b[0m     \u001b[39m# Cleaning operations for column1\u001b[39;00m\n\u001b[0;32m      6\u001b[0m     \u001b[39m# ... perform your desired cleaning operations on column1\u001b[39;00m\n\u001b[0;32m      7\u001b[0m     \n\u001b[0;32m      8\u001b[0m     \u001b[39m# Cleaning operations for column2\u001b[39;00m\n\u001b[0;32m      9\u001b[0m     \u001b[39m# ... perform your desired cleaning operations on column2\u001b[39;00m\n\u001b[0;32m     11\u001b[0m     \u001b[39mreturn\u001b[39;00m row\n\u001b[1;32m---> 13\u001b[0m df \u001b[39m=\u001b[39m df\u001b[39m.\u001b[39;49mapply(clean_columns, axis\u001b[39m=\u001b[39;49m\u001b[39m1\u001b[39;49m)\n",
      "File \u001b[1;32mc:\\Users\\V\\AppData\\Local\\Programs\\Python\\Python311\\Lib\\site-packages\\pandas\\core\\frame.py:9565\u001b[0m, in \u001b[0;36mDataFrame.apply\u001b[1;34m(self, func, axis, raw, result_type, args, **kwargs)\u001b[0m\n\u001b[0;32m   9554\u001b[0m \u001b[39mfrom\u001b[39;00m \u001b[39mpandas\u001b[39;00m\u001b[39m.\u001b[39;00m\u001b[39mcore\u001b[39;00m\u001b[39m.\u001b[39;00m\u001b[39mapply\u001b[39;00m \u001b[39mimport\u001b[39;00m frame_apply\n\u001b[0;32m   9556\u001b[0m op \u001b[39m=\u001b[39m frame_apply(\n\u001b[0;32m   9557\u001b[0m     \u001b[39mself\u001b[39m,\n\u001b[0;32m   9558\u001b[0m     func\u001b[39m=\u001b[39mfunc,\n\u001b[1;32m   (...)\u001b[0m\n\u001b[0;32m   9563\u001b[0m     kwargs\u001b[39m=\u001b[39mkwargs,\n\u001b[0;32m   9564\u001b[0m )\n\u001b[1;32m-> 9565\u001b[0m \u001b[39mreturn\u001b[39;00m op\u001b[39m.\u001b[39;49mapply()\u001b[39m.\u001b[39m__finalize__(\u001b[39mself\u001b[39m, method\u001b[39m=\u001b[39m\u001b[39m\"\u001b[39m\u001b[39mapply\u001b[39m\u001b[39m\"\u001b[39m)\n",
      "File \u001b[1;32mc:\\Users\\V\\AppData\\Local\\Programs\\Python\\Python311\\Lib\\site-packages\\pandas\\core\\apply.py:746\u001b[0m, in \u001b[0;36mFrameApply.apply\u001b[1;34m(self)\u001b[0m\n\u001b[0;32m    743\u001b[0m \u001b[39melif\u001b[39;00m \u001b[39mself\u001b[39m\u001b[39m.\u001b[39mraw:\n\u001b[0;32m    744\u001b[0m     \u001b[39mreturn\u001b[39;00m \u001b[39mself\u001b[39m\u001b[39m.\u001b[39mapply_raw()\n\u001b[1;32m--> 746\u001b[0m \u001b[39mreturn\u001b[39;00m \u001b[39mself\u001b[39;49m\u001b[39m.\u001b[39;49mapply_standard()\n",
      "File \u001b[1;32mc:\\Users\\V\\AppData\\Local\\Programs\\Python\\Python311\\Lib\\site-packages\\pandas\\core\\apply.py:873\u001b[0m, in \u001b[0;36mFrameApply.apply_standard\u001b[1;34m(self)\u001b[0m\n\u001b[0;32m    872\u001b[0m \u001b[39mdef\u001b[39;00m \u001b[39mapply_standard\u001b[39m(\u001b[39mself\u001b[39m):\n\u001b[1;32m--> 873\u001b[0m     results, res_index \u001b[39m=\u001b[39m \u001b[39mself\u001b[39;49m\u001b[39m.\u001b[39;49mapply_series_generator()\n\u001b[0;32m    875\u001b[0m     \u001b[39m# wrap results\u001b[39;00m\n\u001b[0;32m    876\u001b[0m     \u001b[39mreturn\u001b[39;00m \u001b[39mself\u001b[39m\u001b[39m.\u001b[39mwrap_results(results, res_index)\n",
      "File \u001b[1;32mc:\\Users\\V\\AppData\\Local\\Programs\\Python\\Python311\\Lib\\site-packages\\pandas\\core\\apply.py:889\u001b[0m, in \u001b[0;36mFrameApply.apply_series_generator\u001b[1;34m(self)\u001b[0m\n\u001b[0;32m    886\u001b[0m \u001b[39mwith\u001b[39;00m option_context(\u001b[39m\"\u001b[39m\u001b[39mmode.chained_assignment\u001b[39m\u001b[39m\"\u001b[39m, \u001b[39mNone\u001b[39;00m):\n\u001b[0;32m    887\u001b[0m     \u001b[39mfor\u001b[39;00m i, v \u001b[39min\u001b[39;00m \u001b[39menumerate\u001b[39m(series_gen):\n\u001b[0;32m    888\u001b[0m         \u001b[39m# ignore SettingWithCopy here in case the user mutates\u001b[39;00m\n\u001b[1;32m--> 889\u001b[0m         results[i] \u001b[39m=\u001b[39m \u001b[39mself\u001b[39;49m\u001b[39m.\u001b[39;49mf(v)\n\u001b[0;32m    890\u001b[0m         \u001b[39mif\u001b[39;00m \u001b[39misinstance\u001b[39m(results[i], ABCSeries):\n\u001b[0;32m    891\u001b[0m             \u001b[39m# If we have a view on v, we need to make a copy because\u001b[39;00m\n\u001b[0;32m    892\u001b[0m             \u001b[39m#  series_generator will swap out the underlying data\u001b[39;00m\n\u001b[0;32m    893\u001b[0m             results[i] \u001b[39m=\u001b[39m results[i]\u001b[39m.\u001b[39mcopy(deep\u001b[39m=\u001b[39m\u001b[39mFalse\u001b[39;00m)\n",
      "Cell \u001b[1;32mIn[21], line 2\u001b[0m, in \u001b[0;36mclean_columns\u001b[1;34m(row)\u001b[0m\n\u001b[0;32m      1\u001b[0m \u001b[39mdef\u001b[39;00m \u001b[39mclean_columns\u001b[39m(row):\n\u001b[1;32m----> 2\u001b[0m     column1 \u001b[39m=\u001b[39m row[\u001b[39m'\u001b[39;49m\u001b[39mStandard_Answer\u001b[39;49m\u001b[39m'\u001b[39;49m]\n\u001b[0;32m      3\u001b[0m     column2 \u001b[39m=\u001b[39m row[\u001b[39m'\u001b[39m\u001b[39mTest_Answer\u001b[39m\u001b[39m'\u001b[39m]\n\u001b[0;32m      5\u001b[0m     \u001b[39m# Cleaning operations for column1\u001b[39;00m\n\u001b[0;32m      6\u001b[0m     \u001b[39m# ... perform your desired cleaning operations on column1\u001b[39;00m\n\u001b[0;32m      7\u001b[0m     \n\u001b[0;32m      8\u001b[0m     \u001b[39m# Cleaning operations for column2\u001b[39;00m\n\u001b[0;32m      9\u001b[0m     \u001b[39m# ... perform your desired cleaning operations on column2\u001b[39;00m\n",
      "File \u001b[1;32mc:\\Users\\V\\AppData\\Local\\Programs\\Python\\Python311\\Lib\\site-packages\\pandas\\core\\series.py:981\u001b[0m, in \u001b[0;36mSeries.__getitem__\u001b[1;34m(self, key)\u001b[0m\n\u001b[0;32m    978\u001b[0m     \u001b[39mreturn\u001b[39;00m \u001b[39mself\u001b[39m\u001b[39m.\u001b[39m_values[key]\n\u001b[0;32m    980\u001b[0m \u001b[39melif\u001b[39;00m key_is_scalar:\n\u001b[1;32m--> 981\u001b[0m     \u001b[39mreturn\u001b[39;00m \u001b[39mself\u001b[39;49m\u001b[39m.\u001b[39;49m_get_value(key)\n\u001b[0;32m    983\u001b[0m \u001b[39mif\u001b[39;00m is_hashable(key):\n\u001b[0;32m    984\u001b[0m     \u001b[39m# Otherwise index.get_value will raise InvalidIndexError\u001b[39;00m\n\u001b[0;32m    985\u001b[0m     \u001b[39mtry\u001b[39;00m:\n\u001b[0;32m    986\u001b[0m         \u001b[39m# For labels that don't resolve as scalars like tuples and frozensets\u001b[39;00m\n",
      "File \u001b[1;32mc:\\Users\\V\\AppData\\Local\\Programs\\Python\\Python311\\Lib\\site-packages\\pandas\\core\\series.py:1089\u001b[0m, in \u001b[0;36mSeries._get_value\u001b[1;34m(self, label, takeable)\u001b[0m\n\u001b[0;32m   1086\u001b[0m     \u001b[39mreturn\u001b[39;00m \u001b[39mself\u001b[39m\u001b[39m.\u001b[39m_values[label]\n\u001b[0;32m   1088\u001b[0m \u001b[39m# Similar to Index.get_value, but we do not fall back to positional\u001b[39;00m\n\u001b[1;32m-> 1089\u001b[0m loc \u001b[39m=\u001b[39m \u001b[39mself\u001b[39;49m\u001b[39m.\u001b[39;49mindex\u001b[39m.\u001b[39;49mget_loc(label)\n\u001b[0;32m   1090\u001b[0m \u001b[39mreturn\u001b[39;00m \u001b[39mself\u001b[39m\u001b[39m.\u001b[39mindex\u001b[39m.\u001b[39m_get_values_for_loc(\u001b[39mself\u001b[39m, loc, label)\n",
      "File \u001b[1;32mc:\\Users\\V\\AppData\\Local\\Programs\\Python\\Python311\\Lib\\site-packages\\pandas\\core\\indexes\\base.py:3805\u001b[0m, in \u001b[0;36mIndex.get_loc\u001b[1;34m(self, key, method, tolerance)\u001b[0m\n\u001b[0;32m   3803\u001b[0m     \u001b[39mreturn\u001b[39;00m \u001b[39mself\u001b[39m\u001b[39m.\u001b[39m_engine\u001b[39m.\u001b[39mget_loc(casted_key)\n\u001b[0;32m   3804\u001b[0m \u001b[39mexcept\u001b[39;00m \u001b[39mKeyError\u001b[39;00m \u001b[39mas\u001b[39;00m err:\n\u001b[1;32m-> 3805\u001b[0m     \u001b[39mraise\u001b[39;00m \u001b[39mKeyError\u001b[39;00m(key) \u001b[39mfrom\u001b[39;00m \u001b[39merr\u001b[39;00m\n\u001b[0;32m   3806\u001b[0m \u001b[39mexcept\u001b[39;00m \u001b[39mTypeError\u001b[39;00m:\n\u001b[0;32m   3807\u001b[0m     \u001b[39m# If we have a listlike key, _check_indexing_error will raise\u001b[39;00m\n\u001b[0;32m   3808\u001b[0m     \u001b[39m#  InvalidIndexError. Otherwise we fall through and re-raise\u001b[39;00m\n\u001b[0;32m   3809\u001b[0m     \u001b[39m#  the TypeError.\u001b[39;00m\n\u001b[0;32m   3810\u001b[0m     \u001b[39mself\u001b[39m\u001b[39m.\u001b[39m_check_indexing_error(key)\n",
      "\u001b[1;31mKeyError\u001b[0m: 'Standard_Answer'"
     ]
    }
   ],
   "source": [
    "def clean_columns(row):\n",
    "    column1 = row['Standard_Answer']\n",
    "    column2 = row['Test_Answer']\n",
    "    \n",
    "    # Cleaning operations for column1\n",
    "    # ... perform your desired cleaning operations on column1\n",
    "    \n",
    "    # Cleaning operations for column2\n",
    "    # ... perform your desired cleaning operations on column2\n",
    "    \n",
    "    return row\n",
    "\n",
    "df = df.apply(clean_columns, axis=1)\n"
   ]
  },
  {
   "cell_type": "code",
   "execution_count": 22,
   "metadata": {},
   "outputs": [
    {
     "ename": "KeyError",
     "evalue": "'essay'",
     "output_type": "error",
     "traceback": [
      "\u001b[1;31m---------------------------------------------------------------------------\u001b[0m",
      "\u001b[1;31mKeyError\u001b[0m                                  Traceback (most recent call last)",
      "File \u001b[1;32mc:\\Users\\V\\AppData\\Local\\Programs\\Python\\Python311\\Lib\\site-packages\\pandas\\core\\indexes\\base.py:3803\u001b[0m, in \u001b[0;36mIndex.get_loc\u001b[1;34m(self, key, method, tolerance)\u001b[0m\n\u001b[0;32m   3802\u001b[0m \u001b[39mtry\u001b[39;00m:\n\u001b[1;32m-> 3803\u001b[0m     \u001b[39mreturn\u001b[39;00m \u001b[39mself\u001b[39;49m\u001b[39m.\u001b[39;49m_engine\u001b[39m.\u001b[39;49mget_loc(casted_key)\n\u001b[0;32m   3804\u001b[0m \u001b[39mexcept\u001b[39;00m \u001b[39mKeyError\u001b[39;00m \u001b[39mas\u001b[39;00m err:\n",
      "File \u001b[1;32mc:\\Users\\V\\AppData\\Local\\Programs\\Python\\Python311\\Lib\\site-packages\\pandas\\_libs\\index.pyx:138\u001b[0m, in \u001b[0;36mpandas._libs.index.IndexEngine.get_loc\u001b[1;34m()\u001b[0m\n",
      "File \u001b[1;32mc:\\Users\\V\\AppData\\Local\\Programs\\Python\\Python311\\Lib\\site-packages\\pandas\\_libs\\index.pyx:165\u001b[0m, in \u001b[0;36mpandas._libs.index.IndexEngine.get_loc\u001b[1;34m()\u001b[0m\n",
      "File \u001b[1;32mpandas\\_libs\\hashtable_class_helper.pxi:5745\u001b[0m, in \u001b[0;36mpandas._libs.hashtable.PyObjectHashTable.get_item\u001b[1;34m()\u001b[0m\n",
      "File \u001b[1;32mpandas\\_libs\\hashtable_class_helper.pxi:5753\u001b[0m, in \u001b[0;36mpandas._libs.hashtable.PyObjectHashTable.get_item\u001b[1;34m()\u001b[0m\n",
      "\u001b[1;31mKeyError\u001b[0m: 'essay'",
      "\nThe above exception was the direct cause of the following exception:\n",
      "\u001b[1;31mKeyError\u001b[0m                                  Traceback (most recent call last)",
      "Cell \u001b[1;32mIn[22], line 10\u001b[0m\n\u001b[0;32m      7\u001b[0m             filtered_sentence\u001b[39m.\u001b[39mappend(w)\n\u001b[0;32m      8\u001b[0m     \u001b[39mreturn\u001b[39;00m \u001b[39m'\u001b[39m\u001b[39m \u001b[39m\u001b[39m'\u001b[39m\u001b[39m.\u001b[39mjoin(filtered_sentence)\n\u001b[1;32m---> 10\u001b[0m df[\u001b[39m'\u001b[39m\u001b[39mclean_essay\u001b[39m\u001b[39m'\u001b[39m] \u001b[39m=\u001b[39m df[\u001b[39m'\u001b[39;49m\u001b[39messay\u001b[39;49m\u001b[39m'\u001b[39;49m]\u001b[39m.\u001b[39mapply(\u001b[39mlambda\u001b[39;00m x:remove_stop_words(x))\n",
      "File \u001b[1;32mc:\\Users\\V\\AppData\\Local\\Programs\\Python\\Python311\\Lib\\site-packages\\pandas\\core\\frame.py:3805\u001b[0m, in \u001b[0;36mDataFrame.__getitem__\u001b[1;34m(self, key)\u001b[0m\n\u001b[0;32m   3803\u001b[0m \u001b[39mif\u001b[39;00m \u001b[39mself\u001b[39m\u001b[39m.\u001b[39mcolumns\u001b[39m.\u001b[39mnlevels \u001b[39m>\u001b[39m \u001b[39m1\u001b[39m:\n\u001b[0;32m   3804\u001b[0m     \u001b[39mreturn\u001b[39;00m \u001b[39mself\u001b[39m\u001b[39m.\u001b[39m_getitem_multilevel(key)\n\u001b[1;32m-> 3805\u001b[0m indexer \u001b[39m=\u001b[39m \u001b[39mself\u001b[39;49m\u001b[39m.\u001b[39;49mcolumns\u001b[39m.\u001b[39;49mget_loc(key)\n\u001b[0;32m   3806\u001b[0m \u001b[39mif\u001b[39;00m is_integer(indexer):\n\u001b[0;32m   3807\u001b[0m     indexer \u001b[39m=\u001b[39m [indexer]\n",
      "File \u001b[1;32mc:\\Users\\V\\AppData\\Local\\Programs\\Python\\Python311\\Lib\\site-packages\\pandas\\core\\indexes\\base.py:3805\u001b[0m, in \u001b[0;36mIndex.get_loc\u001b[1;34m(self, key, method, tolerance)\u001b[0m\n\u001b[0;32m   3803\u001b[0m     \u001b[39mreturn\u001b[39;00m \u001b[39mself\u001b[39m\u001b[39m.\u001b[39m_engine\u001b[39m.\u001b[39mget_loc(casted_key)\n\u001b[0;32m   3804\u001b[0m \u001b[39mexcept\u001b[39;00m \u001b[39mKeyError\u001b[39;00m \u001b[39mas\u001b[39;00m err:\n\u001b[1;32m-> 3805\u001b[0m     \u001b[39mraise\u001b[39;00m \u001b[39mKeyError\u001b[39;00m(key) \u001b[39mfrom\u001b[39;00m \u001b[39merr\u001b[39;00m\n\u001b[0;32m   3806\u001b[0m \u001b[39mexcept\u001b[39;00m \u001b[39mTypeError\u001b[39;00m:\n\u001b[0;32m   3807\u001b[0m     \u001b[39m# If we have a listlike key, _check_indexing_error will raise\u001b[39;00m\n\u001b[0;32m   3808\u001b[0m     \u001b[39m#  InvalidIndexError. Otherwise we fall through and re-raise\u001b[39;00m\n\u001b[0;32m   3809\u001b[0m     \u001b[39m#  the TypeError.\u001b[39;00m\n\u001b[0;32m   3810\u001b[0m     \u001b[39mself\u001b[39m\u001b[39m.\u001b[39m_check_indexing_error(key)\n",
      "\u001b[1;31mKeyError\u001b[0m: 'essay'"
     ]
    }
   ],
   "source": [
    "stop_words = set(stopwords.words('english')) \n",
    "def remove_stop_words(essay):\n",
    "    word_tokens = word_tokenize(essay) \n",
    "    filtered_sentence = [] \n",
    "    for w in word_tokens: \n",
    "        if w not in stop_words: \n",
    "            filtered_sentence.append(w)\n",
    "    return ' '.join(filtered_sentence)\n",
    "\n",
    "df['clean_essay'] = df['essay'].apply(lambda x:remove_stop_words(x))"
   ]
  },
  {
   "cell_type": "code",
   "execution_count": null,
   "metadata": {},
   "outputs": [],
   "source": [
    "def remove_puncs(essay):\n",
    "    essay = re.sub(\"[^A-Za-z ]\",\"\",essay)\n",
    "    return essay\n",
    "\n",
    "df['clean_essay'] = df['clean_essay'].apply(lambda x:remove_puncs(x))"
   ]
  },
  {
   "cell_type": "code",
   "execution_count": null,
   "metadata": {},
   "outputs": [],
   "source": [
    "df.head()"
   ]
  },
  {
   "cell_type": "code",
   "execution_count": null,
   "metadata": {},
   "outputs": [],
   "source": [
    "def sent2word(x):\n",
    "    x=re.sub(\"[^A-Za-z0-9]\",\" \",x)\n",
    "    words=nltk.word_tokenize(x)\n",
    "    return words\n",
    "\n",
    "def essay2word(essay):\n",
    "    essay = essay.strip()\n",
    "    tokenizer = nltk.data.load('tokenizers/punkt/english.pickle')\n",
    "    raw = tokenizer.tokenize(essay)\n",
    "    final_words=[]\n",
    "    for i in raw:\n",
    "        if(len(i)>0):\n",
    "            final_words.append(sent2word(i))\n",
    "    return final_words\n",
    "        \n",
    "\n",
    "def noOfWords(essay):\n",
    "    count=0\n",
    "    for i in essay2word(essay):\n",
    "        count=count+len(i)\n",
    "    return count\n",
    "\n",
    "def noOfChar(essay):\n",
    "    count=0\n",
    "    for i in essay2word(essay):\n",
    "        for j in i:\n",
    "            count=count+len(j)\n",
    "    return count\n",
    "\n",
    "def avg_word_len(essay):\n",
    "    return noOfChar(essay)/noOfWords(essay)\n",
    "\n",
    "def noOfSent(essay):\n",
    "    return len(essay2word(essay))\n",
    "\n",
    "def count_pos(essay):\n",
    "    sentences = essay2word(essay)\n",
    "    noun_count=0\n",
    "    adj_count=0\n",
    "    verb_count=0\n",
    "    adverb_count=0\n",
    "    for i in sentences:\n",
    "        pos_sentence = nltk.pos_tag(i)\n",
    "        for j in pos_sentence:\n",
    "            pos_tag = j[1]\n",
    "            if(pos_tag[0]=='N'):\n",
    "                noun_count+=1\n",
    "            elif(pos_tag[0]=='V'):\n",
    "                verb_count+=1\n",
    "            elif(pos_tag[0]=='J'):\n",
    "                adj_count+=1\n",
    "            elif(pos_tag[0]=='R'):\n",
    "                adverb_count+=1\n",
    "    return noun_count,verb_count,adj_count,adverb_count\n",
    "\n",
    "data = open('big.txt').read()\n",
    "words = re.findall('[a-z]+', data.lower())\n",
    "\n",
    "def check_spell_error(essay):\n",
    "    essay=essay.lower()\n",
    "    new_essay = re.sub(\"[^A-Za-z0-9]\",\" \",essay)\n",
    "    new_essay = re.sub(\"[0-9]\",\"\",new_essay)\n",
    "    count=0\n",
    "    all_words = new_essay.split()\n",
    "    for i in all_words:\n",
    "        if i not in words:\n",
    "            count+=1\n",
    "    return count\n",
    "    \n",
    "    "
   ]
  },
  {
   "cell_type": "code",
   "execution_count": null,
   "metadata": {},
   "outputs": [],
   "source": [
    "df.head()"
   ]
  },
  {
   "cell_type": "code",
   "execution_count": null,
   "metadata": {},
   "outputs": [],
   "source": [
    "vectorizer = CountVectorizer(max_features = 1000, ngram_range=(1, 3), stop_words='english')\n",
    "count_vectors = vectorizer.fit_transform(df['clean_essay'])\n",
    "feature_names = vectorizer.get_feature_names_out()\n",
    "data = df[['essay_set','clean_essay','final_score']].copy()\n",
    "X = count_vectors.toarray()\n",
    "y = data['final_score'].to_numpy()\n",
    "X_train, X_test, y_train, y_test = train_test_split(X, y, test_size = 0.3)"
   ]
  },
  {
   "attachments": {},
   "cell_type": "markdown",
   "metadata": {},
   "source": [
    " Cosine similarity "
   ]
  },
  {
   "cell_type": "code",
   "execution_count": null,
   "metadata": {},
   "outputs": [],
   "source": [
    "import numpy as np\n",
    "\n",
    "def cosine_similarity_column(df, clean_essay):\n",
    "  \"\"\"\n",
    "  Calculates the cosine similarity of a column in a DataFrame.\n",
    "\n",
    "  Args:\n",
    "    df: The DataFrame.\n",
    "    column_name: The name of the column to calculate the cosine similarity for.\n",
    "\n",
    "  Returns:\n",
    "    A DataFrame with the cosine similarity of each row in the column.\n",
    "  \"\"\"\n",
    "\n",
    "  # Get the values in the column.\n",
    "  values = df[clean_essay].values\n",
    "\n",
    "  # Convert the values to vectors.\n",
    "  vectors = np.array([np.array([word_to_vec[word] for word in value.split()]) for value in values])\n",
    "\n",
    "  # Calculate the cosine similarity.\n",
    "  cosine_similarities = np.dot(vectors, vectors.T) / (np.linalg.norm(vectors, axis=1) * np.linalg.norm(vectors, axis=1))\n",
    "\n",
    "  # Return the cosine similarity.\n",
    "  return pd.DataFrame(cosine_similarities, columns=[\"cosine_similarity\"])\n"
   ]
  },
  {
   "cell_type": "code",
   "execution_count": null,
   "metadata": {},
   "outputs": [],
   "source": [
    "df.head()"
   ]
  },
  {
   "attachments": {},
   "cell_type": "markdown",
   "metadata": {},
   "source": [
    "try \n"
   ]
  },
  {
   "cell_type": "code",
   "execution_count": null,
   "metadata": {},
   "outputs": [],
   "source": [
    "#Save Trained Model\n",
    "linear_regressor = LinearRegression()\n",
    "linear_regressor.fit(X_train, y_train)\n",
    "pickle.dump(linear_regressor,open(\"Saved_Models/LR_without_pp\",'wb'))\n",
    "\n",
    "#Use Saved Model\n",
    "model = pickle.load(open(\"Saved_Models/LR_without_pp\",'rb'))\n",
    "y_pred = model.predict(X_test)\n",
    "print(\"Mean squared error: %.2f\" % mean_squared_error(y_test, y_pred))"
   ]
  },
  {
   "cell_type": "code",
   "execution_count": null,
   "metadata": {},
   "outputs": [],
   "source": [
    "#Save Trained Model\n",
    "clf = SVR(C=1.0, epsilon=0.2)\n",
    "clf.fit(X_train, y_train)\n",
    "pickle.dump(clf,open(\"Saved_Models/SVR_without_pp\",'wb'))\n",
    "\n",
    "#Use Saved Model\n",
    "clf = pickle.load(open('Saved_Models/SVR_without_pp', 'rb'))\n",
    "y_pred=clf.predict(X_test)\n",
    "print(\"Mean squared error:%.2f\"%mean_squared_error(y_test,y_pred))"
   ]
  },
  {
   "cell_type": "code",
   "execution_count": null,
   "metadata": {},
   "outputs": [],
   "source": [
    "#Save Trained Model\n",
    "rf = RandomForestRegressor(n_estimators = 1000, random_state = 42)\n",
    "rf.fit(X_train, y_train)\n",
    "pickle.dump(rf, open('Saved_Models/RF_without_PP', 'wb'))\n",
    "\n",
    "#Use Saved Model\n",
    "rf = pickle.load(open('Saved_Models/RF_without_PP', 'rb'))\n",
    "predictions = rf.predict(X_test)\n",
    "print(\"Mean squared error: %.2f\" % mean_squared_error(y_test, y_pred))"
   ]
  },
  {
   "attachments": {},
   "cell_type": "markdown",
   "metadata": {},
   "source": [
    "**Machine Learning ALGO's with Pre-processing steps**"
   ]
  },
  {
   "cell_type": "code",
   "execution_count": null,
   "metadata": {},
   "outputs": [],
   "source": [
    "pro_data = df.copy()\n",
    "pro_data['char_count'] = pro_data['essay'].apply(noOfChar)\n",
    "pro_data['word_count'] = pro_data['essay'].apply(noOfWords)\n",
    "pro_data['sent_count'] = pro_data['essay'].apply(noOfSent)\n",
    "pro_data['avg_word_len'] = pro_data['essay'].apply(avg_word_len)\n",
    "pro_data['spell_err_count'] = pro_data['essay'].apply(check_spell_error)\n",
    "pro_data['noun_count'], pro_data['adj_count'], pro_data['verb_count'], pro_data['adv_count'] = zip(*pro_data['essay'].map(count_pos))\n",
    "pro_data.to_csv(\"Processed_data.csv\")"
   ]
  },
  {
   "cell_type": "code",
   "execution_count": null,
   "metadata": {},
   "outputs": [],
   "source": [
    "prep_df = pd.read_csv(\"Processed_data.csv\")\n",
    "prep_df.drop('Unnamed: 0',inplace=True,axis=1)\n",
    "prep_df.head()"
   ]
  },
  {
   "cell_type": "code",
   "execution_count": null,
   "metadata": {},
   "outputs": [],
   "source": [
    "prep_df.shape"
   ]
  },
  {
   "cell_type": "code",
   "execution_count": null,
   "metadata": {},
   "outputs": [],
   "source": [
    "vectorizer = CountVectorizer(max_features = 10000, ngram_range=(1, 3), stop_words='english')\n",
    "count_vectors = vectorizer.fit_transform(prep_df['clean_essay'])\n",
    "feature_names = vectorizer.get_feature_names_out()\n",
    "X = count_vectors.toarray()\n",
    "X_full = np.concatenate((prep_df.iloc[:, 5:].to_numpy(), X), axis = 1)\n",
    "y_full = prep_df['final_score'].to_numpy()\n",
    "X_train, X_test, y_train, y_test = train_test_split(X_full, y_full, test_size = 0.3)"
   ]
  },
  {
   "attachments": {},
   "cell_type": "markdown",
   "metadata": {},
   "source": [
    "linear"
   ]
  },
  {
   "cell_type": "code",
   "execution_count": null,
   "metadata": {},
   "outputs": [],
   "source": [
    "#Save Trained Model\n",
    "linear_regressor = LinearRegression()\n",
    "linear_regressor.fit(X_train, y_train)\n",
    "pickle.dump(linear_regressor,open(\"Saved_Models/LR_with_pp\",'wb'))\n",
    "\n",
    "#Use Saved Model\n",
    "model = pickle.load(open(\"Saved_Models/LR_with_pp\",'rb'))\n",
    "y_pred = model.predict(X_test)\n",
    "print(\"Mean squared error: %.2f\" % mean_squared_error(y_test, y_pred))"
   ]
  },
  {
   "cell_type": "code",
   "execution_count": null,
   "metadata": {},
   "outputs": [],
   "source": [
    "#Save Trained Model\n",
    "clf = SVR(C=1.0, epsilon=0.2)\n",
    "clf.fit(X_train, y_train)\n",
    "pickle.dump(clf,open(\"Saved_Models/SVR_with_pp\",'wb'))\n",
    "\n",
    "#Use Saved Model\n",
    "clf = pickle.load(open('Saved_Models/SVR_with_pp', 'rb'))\n",
    "y_pred=clf.predict(X_test)\n",
    "print(\"Mean squared error:%.2f\"%mean_squared_error(y_test,y_pred))"
   ]
  },
  {
   "cell_type": "code",
   "execution_count": null,
   "metadata": {},
   "outputs": [],
   "source": [
    "#Save Trained Model\n",
    "rf = RandomForestRegressor(n_estimators = 1000, random_state = 42)\n",
    "rf.fit(X_train, y_train)\n",
    "pickle.dump(rf, open('Saved_Models/RF_with_PP', 'wb'))\n",
    "\n",
    "#Use Saved Model\n",
    "rf = pickle.load(open('Saved_Models/RF_with_pp', 'rb'))\n",
    "y_pred = rf.predict(X_test)\n",
    "print(\"Mean squared error: %.2f\" % mean_squared_error(y_test, y_pred))"
   ]
  },
  {
   "cell_type": "code",
   "execution_count": null,
   "metadata": {},
   "outputs": [],
   "source": [
    "y_pred"
   ]
  }
 ],
 "metadata": {
  "kernelspec": {
   "display_name": "Python 3",
   "language": "python",
   "name": "python3"
  },
  "language_info": {
   "codemirror_mode": {
    "name": "ipython",
    "version": 3
   },
   "file_extension": ".py",
   "mimetype": "text/x-python",
   "name": "python",
   "nbconvert_exporter": "python",
   "pygments_lexer": "ipython3",
   "version": "3.11.1"
  },
  "orig_nbformat": 4
 },
 "nbformat": 4,
 "nbformat_minor": 2
}

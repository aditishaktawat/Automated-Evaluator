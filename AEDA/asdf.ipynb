{
 "cells": [
  {
   "cell_type": "code",
   "execution_count": 1,
   "metadata": {},
   "outputs": [
    {
     "ename": "AttributeError",
     "evalue": "'str' object has no attribute 'dot'",
     "output_type": "error",
     "traceback": [
      "\u001b[1;31m---------------------------------------------------------------------------\u001b[0m",
      "\u001b[1;31mAttributeError\u001b[0m                            Traceback (most recent call last)",
      "Cell \u001b[1;32mIn[1], line 16\u001b[0m\n\u001b[0;32m     14\u001b[0m   text1 \u001b[39m=\u001b[39m text_column1\u001b[39m.\u001b[39miloc[i]\n\u001b[0;32m     15\u001b[0m   text2 \u001b[39m=\u001b[39m text_column2\u001b[39m.\u001b[39miloc[i]\n\u001b[1;32m---> 16\u001b[0m   cosine_similarities\u001b[39m.\u001b[39mappend(np\u001b[39m.\u001b[39mcos(text1\u001b[39m.\u001b[39;49mdot(text2) \u001b[39m/\u001b[39m (np\u001b[39m.\u001b[39mlinalg\u001b[39m.\u001b[39mnorm(text1) \u001b[39m*\u001b[39m np\u001b[39m.\u001b[39mlinalg\u001b[39m.\u001b[39mnorm(text2))))\n\u001b[0;32m     18\u001b[0m \u001b[39m# Write the cosine similarities to a text file\u001b[39;00m\n\u001b[0;32m     19\u001b[0m \u001b[39mwith\u001b[39;00m \u001b[39mopen\u001b[39m(\u001b[39m\"\u001b[39m\u001b[39mcosine_similarities.txt\u001b[39m\u001b[39m\"\u001b[39m, \u001b[39m\"\u001b[39m\u001b[39mw\u001b[39m\u001b[39m\"\u001b[39m) \u001b[39mas\u001b[39;00m f:\n",
      "\u001b[1;31mAttributeError\u001b[0m: 'str' object has no attribute 'dot'"
     ]
    }
   ],
   "source": [
    "import numpy as np\n",
    "import pandas as pd\n",
    "\n",
    "# Read the text file into a Pandas DataFrame\n",
    "df = pd.read_csv(\"read.csv\")\n",
    "\n",
    "# Get the two text columns\n",
    "text_column1 = df[\"ideal_solution\"]\n",
    "text_column2 = df[\"student_solution\"]\n",
    "\n",
    "# Calculate the cosine similarity between each row\n",
    "cosine_similarities = []\n",
    "for i in range(len(df)):\n",
    "  text1 = text_column1.iloc[i]\n",
    "  text2 = text_column2.iloc[i]\n",
    "  cosine_similarities.append(np.cos(text1.dot(text2) / (np.linalg.norm(text1) * np.linalg.norm(text2))))\n",
    "\n",
    "# Write the cosine similarities to a text file\n",
    "with open(\"cosine_similarities.txt\", \"w\") as f:\n",
    "  for cosine_similarity in cosine_similarities:\n",
    "    f.write(str(cosine_similarity) + \"\\n\")\n"
   ]
  },
  {
   "cell_type": "code",
   "execution_count": 4,
   "metadata": {},
   "outputs": [
    {
     "ename": "TypeError",
     "evalue": "can't multiply sequence by non-int of type 'str'",
     "output_type": "error",
     "traceback": [
      "\u001b[1;31m---------------------------------------------------------------------------\u001b[0m",
      "\u001b[1;31mTypeError\u001b[0m                                 Traceback (most recent call last)",
      "Cell \u001b[1;32mIn[4], line 14\u001b[0m\n\u001b[0;32m     12\u001b[0m \u001b[39mfor\u001b[39;00m i \u001b[39min\u001b[39;00m \u001b[39mrange\u001b[39m(df\u001b[39m.\u001b[39mshape[\u001b[39m0\u001b[39m]):\n\u001b[0;32m     13\u001b[0m   \u001b[39mfor\u001b[39;00m j \u001b[39min\u001b[39;00m \u001b[39mrange\u001b[39m(df\u001b[39m.\u001b[39mshape[\u001b[39m1\u001b[39m]):\n\u001b[1;32m---> 14\u001b[0m     cosine_distances[i, j] \u001b[39m=\u001b[39m np\u001b[39m.\u001b[39;49mdot(df\u001b[39m.\u001b[39;49miloc[i, :]\u001b[39m.\u001b[39;49mvalues, df\u001b[39m.\u001b[39;49miloc[j, :]\u001b[39m.\u001b[39;49mvalues) \u001b[39m/\u001b[39m (np\u001b[39m.\u001b[39mlinalg\u001b[39m.\u001b[39mnorm(df\u001b[39m.\u001b[39miloc[i, :]\u001b[39m.\u001b[39mvalues) \u001b[39m*\u001b[39m np\u001b[39m.\u001b[39mlinalg\u001b[39m.\u001b[39mnorm(df\u001b[39m.\u001b[39miloc[j, :]\u001b[39m.\u001b[39mvalues))\n\u001b[0;32m     16\u001b[0m \u001b[39m# Add the cosine distance column to the DataFrame\u001b[39;00m\n\u001b[0;32m     17\u001b[0m df[\u001b[39m'\u001b[39m\u001b[39mcosine_distance\u001b[39m\u001b[39m'\u001b[39m] \u001b[39m=\u001b[39m cosine_distances\n",
      "File \u001b[1;32m<__array_function__ internals>:180\u001b[0m, in \u001b[0;36mdot\u001b[1;34m(*args, **kwargs)\u001b[0m\n",
      "\u001b[1;31mTypeError\u001b[0m: can't multiply sequence by non-int of type 'str'"
     ]
    }
   ],
   "source": [
    "import pandas as pd\n",
    "import numpy as np\n",
    "\n",
    "# Read the data\n",
    "df = pd.read_csv('read.csv')\n",
    "\n",
    "# Get the column names\n",
    "columns = df.columns\n",
    "\n",
    "# Calculate the cosine distance for each row between columns\n",
    "cosine_distances = np.zeros((df.shape[0], df.shape[1]))\n",
    "for i in range(df.shape[0]):\n",
    "  for j in range(df.shape[1]):\n",
    "    cosine_distances[i, j] = np.dot(df.iloc[i, :].values, df.iloc[j, :].values) / (np.linalg.norm(df.iloc[i, :].values) * np.linalg.norm(df.iloc[j, :].values))\n",
    "\n",
    "# Add the cosine distance column to the DataFrame\n",
    "df['cosine_distance'] = cosine_distances\n",
    "\n",
    "# Print the DataFrame\n",
    "print(df)"
   ]
  }
 ],
 "metadata": {
  "kernelspec": {
   "display_name": "Python 3",
   "language": "python",
   "name": "python3"
  },
  "language_info": {
   "codemirror_mode": {
    "name": "ipython",
    "version": 3
   },
   "file_extension": ".py",
   "mimetype": "text/x-python",
   "name": "python",
   "nbconvert_exporter": "python",
   "pygments_lexer": "ipython3",
   "version": "3.11.1"
  },
  "orig_nbformat": 4
 },
 "nbformat": 4,
 "nbformat_minor": 2
}
